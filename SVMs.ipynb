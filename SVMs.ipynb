{
 "cells": [
  {
   "cell_type": "code",
   "execution_count": 1,
   "id": "human-regression",
   "metadata": {},
   "outputs": [],
   "source": [
    "import numpy as np\n",
    "import pandas as pd\n",
    "import math\n",
    "import matplotlib.pyplot as plt\n",
    "import mat73\n",
    "from scipy.linalg import dft\n",
    "from scipy import linalg\n",
    "from scipy.signal import butter, iirnotch, lfilter, freqz, filtfilt\n",
    "from scipy.fft import fft, fftfreq\n",
    "import warnings\n",
    "%matplotlib inline"
   ]
  },
  {
   "cell_type": "code",
   "execution_count": 2,
   "id": "powerful-receptor",
   "metadata": {},
   "outputs": [],
   "source": [
    "with open('ssvep/classInfo_4_5.m') as f:\n",
    "    targets_str= f.read().split('\\n')\n",
    "\n",
    "targets=[]\n",
    "for label in targets_str[:-1]:\n",
    "    targets.append(list(map(int,label.split(' '))))"
   ]
  },
  {
   "cell_type": "code",
   "execution_count": 3,
   "id": "attempted-compilation",
   "metadata": {},
   "outputs": [
    {
     "name": "stdout",
     "output_type": "stream",
     "text": [
      "dict_keys(['y']) dict_keys(['y']) dict_keys(['y']) dict_keys(['y'])\n",
      "(11, 57728) (11, 58112) (11, 58757) (11, 57697)\n"
     ]
    }
   ],
   "source": [
    "subject= 1\n",
    "sub1_train1_data = 'ssvep/subject_1_fvep_led_training_1.mat'\n",
    "sub1_train2_data = 'ssvep/subject_1_fvep_led_training_2.mat'\n",
    "sub2_train1_data = 'ssvep/subject_2_fvep_led_training_1.mat'\n",
    "sub2_train2_data = 'ssvep/subject_2_fvep_led_training_2.mat'\n",
    "\n",
    "data_dict_sub1_train1 = mat73.loadmat(sub1_train1_data)\n",
    "data_dict_sub1_train2 = mat73.loadmat(sub1_train2_data)\n",
    "data_dict_sub2_train1 = mat73.loadmat(sub2_train1_data)\n",
    "data_dict_sub2_train2 = mat73.loadmat(sub2_train2_data)\n",
    "\n",
    "print(data_dict_sub1_train1.keys(), data_dict_sub1_train2.keys(), data_dict_sub2_train1.keys(), data_dict_sub2_train2.keys())\n",
    "\n",
    "data_sub1_train1 = data_dict_sub1_train1['y']\n",
    "data_sub1_train2 = data_dict_sub1_train2['y']\n",
    "data_sub2_train1 = data_dict_sub2_train1['y']\n",
    "data_sub2_train2 = data_dict_sub2_train2['y']\n",
    "\n",
    "print(data_sub1_train1.shape, data_sub1_train2.shape, data_sub2_train1.shape, data_sub2_train2.shape)"
   ]
  },
  {
   "cell_type": "code",
   "execution_count": 4,
   "id": "exceptional-thanksgiving",
   "metadata": {},
   "outputs": [
    {
     "name": "stdout",
     "output_type": "stream",
     "text": [
      "51072 0 0 6656 0\n",
      "50832 156 0 6344 780\n",
      "32289 5408 4212 1768 15080\n",
      "29097 3328 2912 2548 19812\n"
     ]
    }
   ],
   "source": [
    "print((data_sub1_train1[10]==0).sum(), (data_sub1_train1[10]==1).sum(), (data_sub1_train1[10]==2).sum(), (data_sub1_train1[10]==3).sum(), (data_sub1_train1[10]==4).sum())\n",
    "print((data_sub1_train2[10]==0).sum(), (data_sub1_train2[10]==1).sum(), (data_sub1_train2[10]==2).sum(), (data_sub1_train2[10]==3).sum(), (data_sub1_train2[10]==4).sum())\n",
    "print((data_sub2_train1[10]==0).sum(), (data_sub2_train1[10]==1).sum(), (data_sub2_train1[10]==2).sum(), (data_sub2_train1[10]==3).sum(), (data_sub2_train1[10]==4).sum())\n",
    "print((data_sub2_train2[10]==0).sum(), (data_sub2_train2[10]==1).sum(), (data_sub2_train2[10]==2).sum(), (data_sub2_train2[10]==3).sum(), (data_sub2_train2[10]==4).sum())"
   ]
  },
  {
   "cell_type": "code",
   "execution_count": 5,
   "id": "sized-refund",
   "metadata": {},
   "outputs": [],
   "source": [
    "def get_trigger_intervals(data):\n",
    "    intervals_start= []\n",
    "    intervals_end= []\n",
    "\n",
    "    for i in range(0,len(data[9])-1):\n",
    "        if data[9,i]==0 and data[9,i+1]==1:\n",
    "            intervals_start.append(i+1)\n",
    "        if data[9,i]==1 and data[9,i+1]==0:\n",
    "            intervals_end.append(i+1)\n",
    "    assert len(intervals_start)== len(intervals_end)\n",
    "\n",
    "    import numpy as np\n",
    "    intervals = np.array([intervals_start, intervals_end]).T\n",
    "\n",
    "    return intervals\n",
    "\n",
    "def get_label_array(data):\n",
    "    intervals = get_trigger_intervals(data) \n",
    "    labels = np.zeros((data.shape[1]))\n",
    "    class_=1\n",
    "    for interval in intervals:\n",
    "        labels[interval[0]:interval[1]]= class_\n",
    "        class_+=1\n",
    "        if class_==5:class_=1\n",
    "    return labels\n",
    "\n",
    "def get_segment(data_channel, intervals):\n",
    "    output = []\n",
    "    if len(data_channel.shape)==1:\n",
    "        for interval in intervals:\n",
    "            output.append(data_channel[interval[0]: interval[1]])\n",
    "    \n",
    "    elif len(data_channel.shape)==2:\n",
    "        for interval in intervals:\n",
    "            output.append(data_channel[:,interval[0]: interval[1]])\n",
    "    return np.array(output)\n",
    "\n",
    "def create_dataset(sample_eeg, sample_labels, window_size=10):\n",
    "    eegs=[]\n",
    "    labels=[]\n",
    "    for idx in range(len(sample_eeg)):\n",
    "        eeg_chunk = sample_eeg[idx]\n",
    "        label_chunk= sample_labels[idx]\n",
    "        for i in range(0, eeg_chunk.shape[1]- window_size, window_size):\n",
    "            eegs.append(eeg_chunk[:,i:i+window_size])\n",
    "            labels.append(label_chunk[i])\n",
    "            for k in range(len(label_chunk)-1):\n",
    "                assert label_chunk[k]==label_chunk[k+1]\n",
    "    return np.array(eegs), np.array(labels)\n",
    "\n"
   ]
  },
  {
   "cell_type": "code",
   "execution_count": 6,
   "id": "suburban-carter",
   "metadata": {},
   "outputs": [],
   "source": [
    "name1= \"data_sub1_train1\"\n",
    "data1 = data_sub1_train1\n",
    "\n",
    "name2= \"data_sub1_train2\"\n",
    "data2 = data_sub1_train2\n",
    "\n",
    "name3= \"data_sub2_train1\"\n",
    "data3 = data_sub2_train1\n",
    "\n",
    "name4= \"data_sub2_train2\"\n",
    "data4 = data_sub2_train2"
   ]
  },
  {
   "cell_type": "code",
   "execution_count": 7,
   "id": "stuck-acoustic",
   "metadata": {},
   "outputs": [],
   "source": [
    "def filter_eeg(eeg_signal):\n",
    "    b1, a1 = butter(N=6, Wn=[0.5, 30], btype='bandpass', fs=256)\n",
    "    b2, a2 = iirnotch(w0= 50, Q=30, fs=256)\n",
    "    \n",
    "    filtered_eeg = filtfilt(b1, a1, eeg_signal)\n",
    "    filtered_eeg2 = filtfilt(b2, a2, filtered_eeg)\n",
    "    return filtered_eeg2"
   ]
  },
  {
   "cell_type": "code",
   "execution_count": 8,
   "id": "extreme-haiti",
   "metadata": {},
   "outputs": [],
   "source": [
    "def prep_data(data):\n",
    "    intervals = get_trigger_intervals(data)\n",
    "    labels = get_label_array(data)\n",
    "\n",
    "    samples_labels= get_segment(labels, intervals)\n",
    "    samples_lda_preds= get_segment(data[10], intervals)\n",
    "    samples_eeg= get_segment(data[1:9], intervals)\n",
    "\n",
    "    eegs,labels = create_dataset(samples_eeg, samples_labels, window_size=768) # window_size -> timestamps\n",
    "    eegs.shape, eegs[0].shape, labels.shape, labels[0]\n",
    "    \n",
    "    filtered_eegs= []\n",
    "    for eeg in eegs:\n",
    "        filtered_eegs.append(filter_eeg(eeg))\n",
    "    filtered_eegs= np.array(filtered_eegs)\n",
    "    \n",
    "    return filtered_eegs,labels"
   ]
  },
  {
   "cell_type": "code",
   "execution_count": 9,
   "id": "passive-realtor",
   "metadata": {},
   "outputs": [
    {
     "name": "stdout",
     "output_type": "stream",
     "text": [
      "(40, 8, 768) (40,)\n",
      "(40, 8, 768) (40,)\n",
      "(80, 8, 768) (80,)\n"
     ]
    }
   ],
   "source": [
    "filtered_eegs1,labels1 = prep_data(data1)\n",
    "filtered_eegs2,labels2 = prep_data(data2)\n",
    "\n",
    "filtered_eegs3 = np.append(filtered_eegs1,filtered_eegs2, axis=0)\n",
    "labels3 = np.append(labels1, labels2, axis=0)\n",
    "\n",
    "print(filtered_eegs1.shape,labels1.shape)\n",
    "print(filtered_eegs2.shape,labels2.shape)\n",
    "print(filtered_eegs3.shape,labels3.shape)"
   ]
  },
  {
   "cell_type": "code",
   "execution_count": 10,
   "id": "deadly-milwaukee",
   "metadata": {},
   "outputs": [
    {
     "name": "stdout",
     "output_type": "stream",
     "text": [
      "(40, 8, 768) (40,)\n",
      "(40, 8, 768) (40,)\n",
      "(80, 8, 768) (80,)\n"
     ]
    }
   ],
   "source": [
    "filtered_eegs21,labels21 = prep_data(data3)\n",
    "filtered_eegs22,labels22 = prep_data(data4)\n",
    "\n",
    "filtered_eegs23 = np.append(filtered_eegs21,filtered_eegs22, axis=0)\n",
    "labels23 = np.append(labels21, labels22, axis=0)\n",
    "\n",
    "print(filtered_eegs21.shape,labels21.shape)\n",
    "print(filtered_eegs22.shape,labels22.shape)\n",
    "print(filtered_eegs23.shape,labels23.shape)"
   ]
  },
  {
   "cell_type": "code",
   "execution_count": 11,
   "id": "neutral-morgan",
   "metadata": {},
   "outputs": [],
   "source": [
    "# for tsfresh\n",
    "from tsfresh import extract_relevant_features\n",
    "from tsfresh import extract_features, select_features"
   ]
  },
  {
   "cell_type": "code",
   "execution_count": 12,
   "id": "integral-draft",
   "metadata": {},
   "outputs": [],
   "source": [
    "def ready_for_tsf(eegs, labels):\n",
    "    # generatig X dataframe\n",
    "    dfx = pd.DataFrame(columns = ['eeg1','eeg2','eeg3','eeg4','eeg5','eeg6','eeg7','eeg8','id'])\n",
    "    for i in range(eegs.shape[0]):\n",
    "        if i == 0:\n",
    "            temp = eegs[i].T\n",
    "            ids = np.pad(np.array([i]),(0,eegs[i].shape[1]-1),'constant',constant_values = i)\n",
    "            print(temp.shape, ids.shape)\n",
    "            continue\n",
    "    \n",
    "        temp = np.append(temp, eegs[i].T, axis=0)\n",
    "        ids = np.append(ids,np.pad(np.array([i]),(0,eegs[i].shape[1]-1),'constant',constant_values = i))\n",
    "#     print(temp.shape, ids.shape)\n",
    "    for j in range(8):\n",
    "        dfx['eeg'+str(j+1)] = temp[:,j]\n",
    "#     print(dfx)\n",
    "    dfx['id'] = ids\n",
    "\n",
    "    # generate a unique id for each movement based on gesture and iteration values\n",
    "    dfy = pd.DataFrame()\n",
    "    dfy['id']  = ids\n",
    "    # dropping ALL duplicte values\n",
    "    dfy = dfy.drop_duplicates()\n",
    "    dfy['y'] \t= labels\n",
    "\n",
    "    # save files\n",
    "#     print(dfy)\n",
    "#     save_file(df, configs(save_folder,'file_tsf_input_x'))\n",
    "#     save_file(dfy, configs(save_folder,'file_tsf_input_y'))\n",
    "    return dfx,dfy"
   ]
  },
  {
   "cell_type": "code",
   "execution_count": 13,
   "id": "educational-bathroom",
   "metadata": {},
   "outputs": [],
   "source": [
    "def run_tsfresh(eegs,labels):\n",
    "\n",
    "    dfx,dfy = ready_for_tsf(eegs, labels)\n",
    "    y =  pd.Series(data=dfy[\"y\"].values, index=dfy[\"id\"].values)\n",
    "    \n",
    "    #   # Removing mean and scaling - if the following section is needed uncomment it\n",
    "#     grouped = dfx.groupby(dfx.id)\n",
    "#     ids = dfx['id']\n",
    "#     ids = list(set(ids))\n",
    "#     ids.sort()\n",
    "#     for i in ids:\n",
    "#         if i == ids[0]:\n",
    "#             X = scaled_gesture(grouped,i)\n",
    "#             continue\n",
    "\n",
    "#         scaled_g = scaled_gesture(grouped,i)\n",
    "#         X = X.append(scaled_g, ignore_index=True)\n",
    "\n",
    "\n",
    "#     print(X.head())\n",
    "#     print(y.head())\n",
    "\n",
    "    fc_parameters = {\n",
    "    \"spkt_welch_density\":  [{\"coeff\": 9}, {\"coeff\": 10}, {\"coeff\": 12}, {\"coeff\": 15}]\n",
    "    }\n",
    "\n",
    "    warnings.simplefilter(\"ignore\")\n",
    "#     features_filtered = extract_relevant_features(dfx, y, column_id='id',n_jobs=0)\n",
    "    features_filtered = extract_features(dfx, default_fc_parameters=fc_parameters, column_id='id')\n",
    "#     print(features_filtered.head())\n",
    "    print('TSF finished')\n",
    "    return features_filtered"
   ]
  },
  {
   "cell_type": "code",
   "execution_count": 14,
   "id": "resistant-procedure",
   "metadata": {},
   "outputs": [
    {
     "name": "stdout",
     "output_type": "stream",
     "text": [
      "(768, 8) (768,)\n"
     ]
    },
    {
     "name": "stderr",
     "output_type": "stream",
     "text": [
      "Feature Extraction: 100%|██████████| 10/10 [00:00<00:00, 44.68it/s]\n"
     ]
    },
    {
     "name": "stdout",
     "output_type": "stream",
     "text": [
      "TSF finished\n",
      "(768, 8) (768,)\n"
     ]
    },
    {
     "name": "stderr",
     "output_type": "stream",
     "text": [
      "Feature Extraction: 100%|██████████| 10/10 [00:00<00:00, 26.77it/s]\n"
     ]
    },
    {
     "name": "stdout",
     "output_type": "stream",
     "text": [
      "TSF finished\n",
      "(768, 8) (768,)\n"
     ]
    },
    {
     "name": "stderr",
     "output_type": "stream",
     "text": [
      "Feature Extraction: 100%|██████████| 10/10 [00:00<00:00, 13.40it/s]\n"
     ]
    },
    {
     "name": "stdout",
     "output_type": "stream",
     "text": [
      "TSF finished\n",
      "(768, 8) (768,)\n"
     ]
    },
    {
     "name": "stderr",
     "output_type": "stream",
     "text": [
      "Feature Extraction: 100%|██████████| 10/10 [00:00<00:00, 32.78it/s]\n"
     ]
    },
    {
     "name": "stdout",
     "output_type": "stream",
     "text": [
      "TSF finished\n",
      "(768, 8) (768,)\n"
     ]
    },
    {
     "name": "stderr",
     "output_type": "stream",
     "text": [
      "Feature Extraction: 100%|██████████| 10/10 [00:00<00:00, 47.68it/s]\n"
     ]
    },
    {
     "name": "stdout",
     "output_type": "stream",
     "text": [
      "TSF finished\n",
      "(768, 8) (768,)\n"
     ]
    },
    {
     "name": "stderr",
     "output_type": "stream",
     "text": [
      "Feature Extraction: 100%|██████████| 10/10 [00:00<00:00, 17.72it/s]"
     ]
    },
    {
     "name": "stdout",
     "output_type": "stream",
     "text": [
      "TSF finished\n"
     ]
    },
    {
     "name": "stderr",
     "output_type": "stream",
     "text": [
      "\n"
     ]
    }
   ],
   "source": [
    "X11 = run_tsfresh(filtered_eegs1,labels1)\n",
    "ocolumns = X11.columns\n",
    "y11 = labels1\n",
    "\n",
    "X12 = run_tsfresh(filtered_eegs2,labels2)\n",
    "ocolumns = X12.columns\n",
    "y12 = labels2\n",
    "\n",
    "X13 = run_tsfresh(filtered_eegs3,labels3)\n",
    "ocolumns = X13.columns\n",
    "y13 = labels3\n",
    "\n",
    "X21 = run_tsfresh(filtered_eegs21,labels21)\n",
    "ocolumns = X21.columns\n",
    "y21 = labels21\n",
    "\n",
    "X22 = run_tsfresh(filtered_eegs22,labels22)\n",
    "ocolumns = X12.columns\n",
    "y22 = labels22\n",
    "\n",
    "X23 = run_tsfresh(filtered_eegs23,labels23)\n",
    "ocolumns = X23.columns\n",
    "y23 = labels23"
   ]
  },
  {
   "cell_type": "code",
   "execution_count": 15,
   "id": "physical-mother",
   "metadata": {},
   "outputs": [],
   "source": [
    "from sklearn import preprocessing\n",
    "from sklearn.model_selection import train_test_split\n",
    "from sklearn.model_selection import KFold\n",
    "from sklearn.model_selection import cross_val_score\n",
    "from sklearn.model_selection import cross_val_predict\n",
    "from sklearn.decomposition import PCA                 # for dimensionality reduction using PCA\n",
    "from sklearn.model_selection import GridSearchCV\n",
    "from sklearn.svm import SVC\n",
    "from sklearn.metrics import classification_report,confusion_matrix\n",
    "import matplotlib.pyplot as plt \n",
    "import seaborn as sns            # visualization tool\n",
    "import matplotlib.cm as cm       # for colour mapping to use for the pca plots"
   ]
  },
  {
   "cell_type": "code",
   "execution_count": 16,
   "id": "pursuant-express",
   "metadata": {},
   "outputs": [],
   "source": [
    "def run(X,y,ocolumns):\n",
    "    scaler = preprocessing.MinMaxScaler()   # since the data set is not gaussian\n",
    "    scaled_df = scaler.fit_transform(X)\n",
    "    X = pd.DataFrame(scaled_df,columns = ocolumns)\n",
    "    \n",
    "    X_train,X_test,y_train,y_test = train_test_split(X,y,test_size = 0.20, stratify = y)\n",
    "    \n",
    "    param_grid = {'C': [0.01,0.1, 1, 10, 100,1000], 'gamma': [1, 0.1, 0.01, 0.001, 0.00001, 10,100]}\n",
    "    clf_grid = GridSearchCV(SVC(kernel = 'linear'), param_grid)\n",
    "    clf_grid.fit(X, y)\n",
    "#     print(\"Best Parameters:\\n\", clf_grid.best_params_\n",
    "    \n",
    "    svclassifier = SVC(kernel = 'linear',C = clf_grid.best_params_['C'], gamma = clf_grid.best_params_['gamma'])\n",
    "    \n",
    "    svclassifier.fit(X_train,y_train)\n",
    "    \n",
    "    y_pred = svclassifier.predict(X_test)\n",
    "    #result = [y_pred[i] == y_test[i] for i in range(len(y_test))]\n",
    "    f,ax = plt.subplots(figsize=(10, 10))\n",
    "    sns.heatmap(confusion_matrix(y_test,y_pred), annot=True, linewidths=.1, fmt= '.0f',ax=ax).set_ylim(4,0)\n",
    "    plt.xlabel(\"Predicted Class\")\n",
    "    plt.ylabel(\"Actual Class\")\n",
    "    plt.show()\n",
    "    print(list(y_test),list(y_pred))\n",
    "    print(classification_report(y_test,y_pred))"
   ]
  },
  {
   "cell_type": "code",
   "execution_count": 25,
   "id": "partial-composition",
   "metadata": {},
   "outputs": [
    {
     "data": {
      "image/png": "[encoded data removed]",
      "text/plain": [
       "<Figure size 720x720 with 2 Axes>"
      ]
     },
     "metadata": {
      "needs_background": "light"
     },
     "output_type": "display_data"
    },
    {
     "name": "stdout",
     "output_type": "stream",
     "text": [
      "[2.0, 3.0, 2.0, 3.0, 4.0, 4.0, 1.0, 1.0] [2.0, 3.0, 2.0, 4.0, 3.0, 4.0, 4.0, 1.0]\n",
      "              precision    recall  f1-score   support\n",
      "\n",
      "         1.0       1.00      0.50      0.67         2\n",
      "         2.0       1.00      1.00      1.00         2\n",
      "         3.0       0.50      0.50      0.50         2\n",
      "         4.0       0.33      0.50      0.40         2\n",
      "\n",
      "    accuracy                           0.62         8\n",
      "   macro avg       0.71      0.62      0.64         8\n",
      "weighted avg       0.71      0.62      0.64         8\n",
      "\n"
     ]
    }
   ],
   "source": [
    "run(X11,y11,ocolumns)"
   ]
  },
  {
   "cell_type": "code",
   "execution_count": 17,
   "id": "political-joining",
   "metadata": {},
   "outputs": [
    {
     "data": {
      "image/png": "[encoded data removed]",
      "text/plain": [
       "<Figure size 720x720 with 2 Axes>"
      ]
     },
     "metadata": {
      "needs_background": "light"
     },
     "output_type": "display_data"
    },
    {
     "name": "stdout",
     "output_type": "stream",
     "text": [
      "[1.0, 3.0, 4.0, 1.0, 3.0, 2.0, 2.0, 4.0] [1.0, 1.0, 2.0, 1.0, 4.0, 4.0, 2.0, 4.0]\n",
      "              precision    recall  f1-score   support\n",
      "\n",
      "         1.0       0.67      1.00      0.80         2\n",
      "         2.0       0.50      0.50      0.50         2\n",
      "         3.0       0.00      0.00      0.00         2\n",
      "         4.0       0.33      0.50      0.40         2\n",
      "\n",
      "    accuracy                           0.50         8\n",
      "   macro avg       0.37      0.50      0.43         8\n",
      "weighted avg       0.37      0.50      0.43         8\n",
      "\n"
     ]
    }
   ],
   "source": [
    "run(X12,y12,ocolumns)"
   ]
  },
  {
   "cell_type": "code",
   "execution_count": 17,
   "id": "rotary-implement",
   "metadata": {},
   "outputs": [
    {
     "data": {
      "image/png": "[encoded data removed]",
      "text/plain": [
       "<Figure size 720x720 with 2 Axes>"
      ]
     },
     "metadata": {
      "needs_background": "light"
     },
     "output_type": "display_data"
    },
    {
     "name": "stdout",
     "output_type": "stream",
     "text": [
      "[2.0, 1.0, 3.0, 3.0, 2.0, 1.0, 1.0, 3.0, 4.0, 4.0, 4.0, 1.0, 2.0, 2.0, 4.0, 3.0] [2.0, 1.0, 1.0, 1.0, 2.0, 1.0, 1.0, 3.0, 1.0, 3.0, 1.0, 1.0, 2.0, 1.0, 2.0, 3.0]\n",
      "              precision    recall  f1-score   support\n",
      "\n",
      "         1.0       0.44      1.00      0.62         4\n",
      "         2.0       0.75      0.75      0.75         4\n",
      "         3.0       0.67      0.50      0.57         4\n",
      "         4.0       0.00      0.00      0.00         4\n",
      "\n",
      "    accuracy                           0.56        16\n",
      "   macro avg       0.47      0.56      0.48        16\n",
      "weighted avg       0.47      0.56      0.48        16\n",
      "\n"
     ]
    }
   ],
   "source": [
    "run(X13,y13,ocolumns)"
   ]
  },
  {
   "cell_type": "code",
   "execution_count": 19,
   "id": "textile-stomach",
   "metadata": {},
   "outputs": [
    {
     "data": {
      "image/png": "[encoded data removed]",
      "text/plain": [
       "<Figure size 720x720 with 2 Axes>"
      ]
     },
     "metadata": {
      "needs_background": "light"
     },
     "output_type": "display_data"
    },
    {
     "name": "stdout",
     "output_type": "stream",
     "text": [
      "[1.0, 4.0, 3.0, 2.0, 4.0, 1.0, 3.0, 2.0] [1.0, 3.0, 2.0, 2.0, 3.0, 2.0, 3.0, 3.0]\n",
      "              precision    recall  f1-score   support\n",
      "\n",
      "         1.0       1.00      0.50      0.67         2\n",
      "         2.0       0.33      0.50      0.40         2\n",
      "         3.0       0.25      0.50      0.33         2\n",
      "         4.0       0.00      0.00      0.00         2\n",
      "\n",
      "    accuracy                           0.38         8\n",
      "   macro avg       0.40      0.38      0.35         8\n",
      "weighted avg       0.40      0.38      0.35         8\n",
      "\n"
     ]
    }
   ],
   "source": [
    "run(X21,y21,ocolumns)"
   ]
  },
  {
   "cell_type": "code",
   "execution_count": 17,
   "id": "comprehensive-highway",
   "metadata": {},
   "outputs": [
    {
     "data": {
      "image/png": "[encoded data removed]",
      "text/plain": [
       "<Figure size 720x720 with 2 Axes>"
      ]
     },
     "metadata": {
      "needs_background": "light"
     },
     "output_type": "display_data"
    },
    {
     "name": "stdout",
     "output_type": "stream",
     "text": [
      "[2.0, 1.0, 3.0, 2.0, 4.0, 4.0, 1.0, 3.0] [2.0, 4.0, 3.0, 2.0, 1.0, 4.0, 1.0, 3.0]\n",
      "              precision    recall  f1-score   support\n",
      "\n",
      "         1.0       0.50      0.50      0.50         2\n",
      "         2.0       1.00      1.00      1.00         2\n",
      "         3.0       1.00      1.00      1.00         2\n",
      "         4.0       0.50      0.50      0.50         2\n",
      "\n",
      "    accuracy                           0.75         8\n",
      "   macro avg       0.75      0.75      0.75         8\n",
      "weighted avg       0.75      0.75      0.75         8\n",
      "\n"
     ]
    }
   ],
   "source": [
    "run(X22,y22,ocolumns)"
   ]
  },
  {
   "cell_type": "code",
   "execution_count": 17,
   "id": "subject-arizona",
   "metadata": {},
   "outputs": [
    {
     "data": {
      "image/png": "[encoded data removed]",
      "text/plain": [
       "<Figure size 720x720 with 2 Axes>"
      ]
     },
     "metadata": {
      "needs_background": "light"
     },
     "output_type": "display_data"
    },
    {
     "name": "stdout",
     "output_type": "stream",
     "text": [
      "[4.0, 4.0, 3.0, 1.0, 3.0, 2.0, 2.0, 1.0, 3.0, 3.0, 4.0, 1.0, 4.0, 2.0, 1.0, 2.0] [1.0, 4.0, 3.0, 4.0, 1.0, 3.0, 3.0, 1.0, 4.0, 1.0, 1.0, 1.0, 4.0, 3.0, 1.0, 3.0]\n",
      "              precision    recall  f1-score   support\n",
      "\n",
      "         1.0       0.43      0.75      0.55         4\n",
      "         2.0       0.00      0.00      0.00         4\n",
      "         3.0       0.20      0.25      0.22         4\n",
      "         4.0       0.50      0.50      0.50         4\n",
      "\n",
      "    accuracy                           0.38        16\n",
      "   macro avg       0.28      0.38      0.32        16\n",
      "weighted avg       0.28      0.38      0.32        16\n",
      "\n"
     ]
    }
   ],
   "source": [
    "run(X23,y23,ocolumns)"
   ]
  },
  {
   "cell_type": "code",
   "execution_count": 17,
   "id": "ultimate-chamber",
   "metadata": {},
   "outputs": [],
   "source": [
    "def give_train_test(X1, y1, X2, y2, mode):\n",
    "    if mode==0:X_train, X_test, y_train, y_test = train_test_split(X1, y1, test_size=0.2, random_state=42)\n",
    "    if mode==1:X_train, X_test, y_train, y_test = train_test_split(X2, y2, test_size=0.2, random_state=42)\n",
    "    if mode==2:\n",
    "        X_train = X1\n",
    "        y_train = y1\n",
    "        X_test = X2\n",
    "        y_test = y2\n",
    "    if mode==3:\n",
    "        X=np.array(list(X1)+list(X2))\n",
    "        y=np.array(list(y1)+list(y2))\n",
    "\n",
    "        X_train, X_test, y_train, y_test = train_test_split(X, y, test_size=0.2, random_state=42)\n",
    "    return X_train, X_test, y_train, y_test"
   ]
  },
  {
   "cell_type": "code",
   "execution_count": 18,
   "id": "egyptian-ebony",
   "metadata": {},
   "outputs": [],
   "source": [
    "def run_new(X_train,y_train,X_test,y_test):\n",
    "    param_grid = {'C': [0.01,0.1, 1, 10, 100,1000], 'gamma': [1, 0.1, 0.01, 0.001, 0.00001, 10,100]}\n",
    "    clf_grid = GridSearchCV(SVC(kernel = 'linear'), param_grid)\n",
    "    clf_grid.fit(X_train, y_train)\n",
    "#     print(\"Best Parameters:\\n\", clf_grid.best_params_\n",
    "    \n",
    "    svclassifier = SVC(kernel = 'linear',C = clf_grid.best_params_['C'], gamma = clf_grid.best_params_['gamma'])\n",
    "    \n",
    "    svclassifier.fit(X_train,y_train)\n",
    "    \n",
    "    y_pred = svclassifier.predict(X_test)\n",
    "    #result = [y_pred[i] == y_test[i] for i in range(len(y_test))]\n",
    "    f,ax = plt.subplots(figsize=(10, 10))\n",
    "    sns.heatmap(confusion_matrix(y_test,y_pred), annot=True, linewidths=.1, fmt= '.0f',ax=ax).set_ylim(4,0)\n",
    "    plt.xlabel(\"Predicted Class\")\n",
    "    plt.ylabel(\"Actual Class\")\n",
    "    plt.show()\n",
    "    print(list(y_test),list(y_pred))\n",
    "    print(classification_report(y_test,y_pred))"
   ]
  },
  {
   "cell_type": "code",
   "execution_count": 23,
   "id": "higher-flood",
   "metadata": {},
   "outputs": [
    {
     "name": "stdout",
     "output_type": "stream",
     "text": [
      "(768, 8) (768,)\n"
     ]
    },
    {
     "name": "stderr",
     "output_type": "stream",
     "text": [
      "Feature Extraction: 100%|██████████| 10/10 [00:00<00:00, 52.60it/s]\n"
     ]
    },
    {
     "name": "stdout",
     "output_type": "stream",
     "text": [
      "TSF finished\n",
      "(768, 8) (768,)\n"
     ]
    },
    {
     "name": "stderr",
     "output_type": "stream",
     "text": [
      "Feature Extraction: 100%|██████████| 10/10 [00:00<00:00, 42.37it/s]\n"
     ]
    },
    {
     "name": "stdout",
     "output_type": "stream",
     "text": [
      "TSF finished\n"
     ]
    },
    {
     "data": {
      "image/png": "[encoded data removed]",
      "text/plain": [
       "<Figure size 720x720 with 2 Axes>"
      ]
     },
     "metadata": {
      "needs_background": "light"
     },
     "output_type": "display_data"
    },
    {
     "name": "stdout",
     "output_type": "stream",
     "text": [
      "[1.0, 1.0, 2.0, 2.0, 3.0, 3.0, 4.0, 4.0, 1.0, 1.0, 2.0, 2.0, 3.0, 3.0, 4.0, 4.0, 1.0, 1.0, 2.0, 2.0, 3.0, 3.0, 4.0, 4.0, 1.0, 1.0, 2.0, 2.0, 3.0, 3.0, 4.0, 4.0, 1.0, 1.0, 2.0, 2.0, 3.0, 3.0, 4.0, 4.0] [2.0, 1.0, 2.0, 1.0, 3.0, 4.0, 2.0, 1.0, 1.0, 4.0, 4.0, 4.0, 3.0, 2.0, 4.0, 4.0, 1.0, 1.0, 1.0, 1.0, 4.0, 1.0, 1.0, 1.0, 1.0, 1.0, 2.0, 3.0, 2.0, 4.0, 3.0, 4.0, 1.0, 3.0, 2.0, 3.0, 2.0, 3.0, 1.0, 3.0]\n",
      "              precision    recall  f1-score   support\n",
      "\n",
      "         1.0       0.47      0.70      0.56        10\n",
      "         2.0       0.38      0.30      0.33        10\n",
      "         3.0       0.38      0.30      0.33        10\n",
      "         4.0       0.33      0.30      0.32        10\n",
      "\n",
      "    accuracy                           0.40        40\n",
      "   macro avg       0.39      0.40      0.39        40\n",
      "weighted avg       0.39      0.40      0.39        40\n",
      "\n"
     ]
    }
   ],
   "source": [
    "X1 = run_tsfresh(filtered_eegs1,labels1)\n",
    "y1 = labels1\n",
    "X2 = run_tsfresh(filtered_eegs2,labels2)\n",
    "y2 = labels2\n",
    "\n",
    "X_train, X_test, y_train, y_test = give_train_test(X1, y1, X2, y2, 2)\n",
    "run_new(X_train,y_train,X_test,y_test)\n"
   ]
  },
  {
   "cell_type": "code",
   "execution_count": 18,
   "id": "comparative-trust",
   "metadata": {},
   "outputs": [
    {
     "name": "stdout",
     "output_type": "stream",
     "text": [
      "(768, 8) (768,)\n"
     ]
    },
    {
     "name": "stderr",
     "output_type": "stream",
     "text": [
      "Feature Extraction: 100%|██████████| 10/10 [00:00<00:00, 46.78it/s]\n"
     ]
    },
    {
     "name": "stdout",
     "output_type": "stream",
     "text": [
      "TSF finished\n",
      "(768, 8) (768,)\n"
     ]
    },
    {
     "name": "stderr",
     "output_type": "stream",
     "text": [
      "Feature Extraction: 100%|██████████| 10/10 [00:00<00:00, 32.92it/s]\n"
     ]
    },
    {
     "name": "stdout",
     "output_type": "stream",
     "text": [
      "TSF finished\n"
     ]
    },
    {
     "data": {
      "image/png": "[encoded data removed]",
      "text/plain": [
       "<Figure size 720x720 with 2 Axes>"
      ]
     },
     "metadata": {
      "needs_background": "light"
     },
     "output_type": "display_data"
    },
    {
     "name": "stdout",
     "output_type": "stream",
     "text": [
      "[1.0, 1.0, 2.0, 2.0, 3.0, 3.0, 4.0, 4.0, 1.0, 1.0, 2.0, 2.0, 3.0, 3.0, 4.0, 4.0, 1.0, 1.0, 2.0, 2.0, 3.0, 3.0, 4.0, 4.0, 1.0, 1.0, 2.0, 2.0, 3.0, 3.0, 4.0, 4.0, 1.0, 1.0, 2.0, 2.0, 3.0, 3.0, 4.0, 4.0] [1.0, 2.0, 2.0, 1.0, 1.0, 1.0, 2.0, 1.0, 1.0, 1.0, 2.0, 2.0, 1.0, 2.0, 4.0, 2.0, 2.0, 1.0, 2.0, 3.0, 3.0, 3.0, 2.0, 4.0, 3.0, 3.0, 3.0, 2.0, 2.0, 1.0, 1.0, 1.0, 1.0, 1.0, 1.0, 4.0, 3.0, 1.0, 4.0, 4.0]\n",
      "              precision    recall  f1-score   support\n",
      "\n",
      "         1.0       0.38      0.60      0.46        10\n",
      "         2.0       0.42      0.50      0.45        10\n",
      "         3.0       0.43      0.30      0.35        10\n",
      "         4.0       0.80      0.40      0.53        10\n",
      "\n",
      "    accuracy                           0.45        40\n",
      "   macro avg       0.51      0.45      0.45        40\n",
      "weighted avg       0.51      0.45      0.45        40\n",
      "\n"
     ]
    }
   ],
   "source": [
    "X1 = run_tsfresh(filtered_eegs2,labels2)\n",
    "y1 = labels2\n",
    "X2 = run_tsfresh(filtered_eegs1,labels1)\n",
    "y2 = labels1\n",
    "\n",
    "X_train, X_test, y_train, y_test = give_train_test(X1, y1, X2, y2, 2)\n",
    "run_new(X_train,y_train,X_test,y_test)\n",
    "\n"
   ]
  },
  {
   "cell_type": "code",
   "execution_count": 18,
   "id": "celtic-campbell",
   "metadata": {},
   "outputs": [
    {
     "name": "stdout",
     "output_type": "stream",
     "text": [
      "(768, 8) (768,)\n"
     ]
    },
    {
     "name": "stderr",
     "output_type": "stream",
     "text": [
      "Feature Extraction: 100%|██████████| 10/10 [00:00<00:00, 43.18it/s]\n"
     ]
    },
    {
     "name": "stdout",
     "output_type": "stream",
     "text": [
      "TSF finished\n",
      "(768, 8) (768,)\n"
     ]
    },
    {
     "name": "stderr",
     "output_type": "stream",
     "text": [
      "Feature Extraction: 100%|██████████| 10/10 [00:00<00:00, 48.11it/s]\n"
     ]
    },
    {
     "name": "stdout",
     "output_type": "stream",
     "text": [
      "TSF finished\n"
     ]
    },
    {
     "data": {
      "image/png": "[encoded data removed]",
      "text/plain": [
       "<Figure size 720x720 with 2 Axes>"
      ]
     },
     "metadata": {
      "needs_background": "light"
     },
     "output_type": "display_data"
    },
    {
     "name": "stdout",
     "output_type": "stream",
     "text": [
      "[1.0, 1.0, 2.0, 2.0, 3.0, 3.0, 4.0, 4.0, 1.0, 1.0, 2.0, 2.0, 3.0, 3.0, 4.0, 4.0, 1.0, 1.0, 2.0, 2.0, 3.0, 3.0, 4.0, 4.0, 1.0, 1.0, 2.0, 2.0, 3.0, 3.0, 4.0, 4.0, 1.0, 1.0, 2.0, 2.0, 3.0, 3.0, 4.0, 4.0] [1.0, 1.0, 3.0, 3.0, 3.0, 2.0, 2.0, 4.0, 3.0, 1.0, 2.0, 2.0, 2.0, 3.0, 4.0, 1.0, 3.0, 1.0, 1.0, 3.0, 4.0, 4.0, 4.0, 4.0, 4.0, 1.0, 1.0, 4.0, 1.0, 1.0, 1.0, 2.0, 2.0, 2.0, 3.0, 3.0, 2.0, 4.0, 1.0, 4.0]\n",
      "              precision    recall  f1-score   support\n",
      "\n",
      "         1.0       0.42      0.50      0.45        10\n",
      "         2.0       0.22      0.20      0.21        10\n",
      "         3.0       0.22      0.20      0.21        10\n",
      "         4.0       0.50      0.50      0.50        10\n",
      "\n",
      "    accuracy                           0.35        40\n",
      "   macro avg       0.34      0.35      0.34        40\n",
      "weighted avg       0.34      0.35      0.34        40\n",
      "\n"
     ]
    }
   ],
   "source": [
    "X1 = run_tsfresh(filtered_eegs21,labels21)\n",
    "y1 = labels21\n",
    "X2 = run_tsfresh(filtered_eegs22,labels22)\n",
    "y2 = labels22\n",
    "\n",
    "X_train, X_test, y_train, y_test = give_train_test(X1, y1, X2, y2, 2)\n",
    "run_new(X_train,y_train,X_test,y_test)"
   ]
  },
  {
   "cell_type": "code",
   "execution_count": 19,
   "id": "apparent-penny",
   "metadata": {},
   "outputs": [
    {
     "name": "stdout",
     "output_type": "stream",
     "text": [
      "(768, 8) (768,)\n"
     ]
    },
    {
     "name": "stderr",
     "output_type": "stream",
     "text": [
      "Feature Extraction: 100%|██████████| 10/10 [00:00<00:00, 44.79it/s]\n"
     ]
    },
    {
     "name": "stdout",
     "output_type": "stream",
     "text": [
      "TSF finished\n",
      "(768, 8) (768,)\n"
     ]
    },
    {
     "name": "stderr",
     "output_type": "stream",
     "text": [
      "Feature Extraction: 100%|██████████| 10/10 [00:00<00:00, 28.71it/s]\n"
     ]
    },
    {
     "name": "stdout",
     "output_type": "stream",
     "text": [
      "TSF finished\n"
     ]
    },
    {
     "data": {
      "image/png": "[encoded data removed]",
      "text/plain": [
       "<Figure size 720x720 with 2 Axes>"
      ]
     },
     "metadata": {
      "needs_background": "light"
     },
     "output_type": "display_data"
    },
    {
     "name": "stdout",
     "output_type": "stream",
     "text": [
      "[1.0, 1.0, 2.0, 2.0, 3.0, 3.0, 4.0, 4.0, 1.0, 1.0, 2.0, 2.0, 3.0, 3.0, 4.0, 4.0, 1.0, 1.0, 2.0, 2.0, 3.0, 3.0, 4.0, 4.0, 1.0, 1.0, 2.0, 2.0, 3.0, 3.0, 4.0, 4.0, 1.0, 1.0, 2.0, 2.0, 3.0, 3.0, 4.0, 4.0] [4.0, 1.0, 4.0, 1.0, 2.0, 3.0, 1.0, 4.0, 1.0, 1.0, 1.0, 1.0, 3.0, 3.0, 2.0, 2.0, 4.0, 4.0, 1.0, 2.0, 4.0, 4.0, 4.0, 4.0, 1.0, 3.0, 4.0, 4.0, 4.0, 4.0, 4.0, 1.0, 3.0, 2.0, 4.0, 3.0, 1.0, 4.0, 4.0, 1.0]\n",
      "              precision    recall  f1-score   support\n",
      "\n",
      "         1.0       0.33      0.40      0.36        10\n",
      "         2.0       0.20      0.10      0.13        10\n",
      "         3.0       0.50      0.30      0.37        10\n",
      "         4.0       0.29      0.50      0.37        10\n",
      "\n",
      "    accuracy                           0.33        40\n",
      "   macro avg       0.33      0.33      0.31        40\n",
      "weighted avg       0.33      0.33      0.31        40\n",
      "\n"
     ]
    }
   ],
   "source": [
    "X1 = run_tsfresh(filtered_eegs22,labels22)\n",
    "y1 = labels22\n",
    "X2 = run_tsfresh(filtered_eegs21,labels21)\n",
    "y2 = labels21\n",
    "\n",
    "X_train, X_test, y_train, y_test = give_train_test(X1, y1, X2, y2, 2)\n",
    "run_new(X_train,y_train,X_test,y_test)"
   ]
  },
  {
   "cell_type": "code",
   "execution_count": 16,
   "id": "peaceful-representation",
   "metadata": {},
   "outputs": [
    {
     "data": {
      "text/html": [
       "<div>\n",
       "<style scoped>\n",
       "    .dataframe tbody tr th:only-of-type {\n",
       "        vertical-align: middle;\n",
       "    }\n",
       "\n",
       "    .dataframe tbody tr th {\n",
       "        vertical-align: top;\n",
       "    }\n",
       "\n",
       "    .dataframe thead th {\n",
       "        text-align: right;\n",
       "    }\n",
       "</style>\n",
       "<table border=\"1\" class=\"dataframe\">\n",
       "  <thead>\n",
       "    <tr style=\"text-align: right;\">\n",
       "      <th></th>\n",
       "      <th>eeg1__spkt_welch_density__coeff_9</th>\n",
       "      <th>eeg1__spkt_welch_density__coeff_10</th>\n",
       "      <th>eeg1__spkt_welch_density__coeff_12</th>\n",
       "      <th>eeg1__spkt_welch_density__coeff_15</th>\n",
       "      <th>eeg2__spkt_welch_density__coeff_9</th>\n",
       "      <th>eeg2__spkt_welch_density__coeff_10</th>\n",
       "      <th>eeg2__spkt_welch_density__coeff_12</th>\n",
       "      <th>eeg2__spkt_welch_density__coeff_15</th>\n",
       "      <th>eeg3__spkt_welch_density__coeff_9</th>\n",
       "      <th>eeg3__spkt_welch_density__coeff_10</th>\n",
       "      <th>...</th>\n",
       "      <th>eeg6__spkt_welch_density__coeff_12</th>\n",
       "      <th>eeg6__spkt_welch_density__coeff_15</th>\n",
       "      <th>eeg7__spkt_welch_density__coeff_9</th>\n",
       "      <th>eeg7__spkt_welch_density__coeff_10</th>\n",
       "      <th>eeg7__spkt_welch_density__coeff_12</th>\n",
       "      <th>eeg7__spkt_welch_density__coeff_15</th>\n",
       "      <th>eeg8__spkt_welch_density__coeff_9</th>\n",
       "      <th>eeg8__spkt_welch_density__coeff_10</th>\n",
       "      <th>eeg8__spkt_welch_density__coeff_12</th>\n",
       "      <th>eeg8__spkt_welch_density__coeff_15</th>\n",
       "    </tr>\n",
       "  </thead>\n",
       "  <tbody>\n",
       "    <tr>\n",
       "      <th>0</th>\n",
       "      <td>0.078458</td>\n",
       "      <td>0.000000</td>\n",
       "      <td>0.082858</td>\n",
       "      <td>0.592621</td>\n",
       "      <td>0.069686</td>\n",
       "      <td>0.033476</td>\n",
       "      <td>0.039440</td>\n",
       "      <td>0.485303</td>\n",
       "      <td>0.094847</td>\n",
       "      <td>0.178379</td>\n",
       "      <td>...</td>\n",
       "      <td>0.098729</td>\n",
       "      <td>0.515149</td>\n",
       "      <td>0.083310</td>\n",
       "      <td>0.071161</td>\n",
       "      <td>0.035698</td>\n",
       "      <td>0.403899</td>\n",
       "      <td>0.101287</td>\n",
       "      <td>0.007039</td>\n",
       "      <td>0.161776</td>\n",
       "      <td>0.219111</td>\n",
       "    </tr>\n",
       "    <tr>\n",
       "      <th>1</th>\n",
       "      <td>0.088861</td>\n",
       "      <td>0.021423</td>\n",
       "      <td>0.270706</td>\n",
       "      <td>0.704286</td>\n",
       "      <td>0.095792</td>\n",
       "      <td>0.043107</td>\n",
       "      <td>0.291638</td>\n",
       "      <td>0.596395</td>\n",
       "      <td>0.209185</td>\n",
       "      <td>0.119805</td>\n",
       "      <td>...</td>\n",
       "      <td>0.278375</td>\n",
       "      <td>0.666676</td>\n",
       "      <td>0.107496</td>\n",
       "      <td>0.075556</td>\n",
       "      <td>0.221805</td>\n",
       "      <td>0.500552</td>\n",
       "      <td>0.254235</td>\n",
       "      <td>0.263903</td>\n",
       "      <td>0.291994</td>\n",
       "      <td>0.114454</td>\n",
       "    </tr>\n",
       "    <tr>\n",
       "      <th>2</th>\n",
       "      <td>0.010456</td>\n",
       "      <td>0.006504</td>\n",
       "      <td>0.100459</td>\n",
       "      <td>0.079679</td>\n",
       "      <td>0.000000</td>\n",
       "      <td>0.000000</td>\n",
       "      <td>0.120063</td>\n",
       "      <td>0.098154</td>\n",
       "      <td>0.019407</td>\n",
       "      <td>0.000000</td>\n",
       "      <td>...</td>\n",
       "      <td>0.245135</td>\n",
       "      <td>0.045988</td>\n",
       "      <td>0.008363</td>\n",
       "      <td>0.010662</td>\n",
       "      <td>0.319200</td>\n",
       "      <td>0.077235</td>\n",
       "      <td>0.096402</td>\n",
       "      <td>0.110464</td>\n",
       "      <td>0.572603</td>\n",
       "      <td>0.107732</td>\n",
       "    </tr>\n",
       "    <tr>\n",
       "      <th>3</th>\n",
       "      <td>0.213417</td>\n",
       "      <td>0.015829</td>\n",
       "      <td>0.124429</td>\n",
       "      <td>0.163194</td>\n",
       "      <td>0.199963</td>\n",
       "      <td>0.054515</td>\n",
       "      <td>0.086010</td>\n",
       "      <td>0.161018</td>\n",
       "      <td>0.160590</td>\n",
       "      <td>0.127305</td>\n",
       "      <td>...</td>\n",
       "      <td>0.202748</td>\n",
       "      <td>0.122907</td>\n",
       "      <td>0.142535</td>\n",
       "      <td>0.177783</td>\n",
       "      <td>0.167773</td>\n",
       "      <td>0.164672</td>\n",
       "      <td>0.109984</td>\n",
       "      <td>0.177031</td>\n",
       "      <td>0.178389</td>\n",
       "      <td>0.167508</td>\n",
       "    </tr>\n",
       "    <tr>\n",
       "      <th>4</th>\n",
       "      <td>0.214356</td>\n",
       "      <td>0.648196</td>\n",
       "      <td>0.293946</td>\n",
       "      <td>0.295538</td>\n",
       "      <td>0.187450</td>\n",
       "      <td>0.594510</td>\n",
       "      <td>0.153591</td>\n",
       "      <td>0.276623</td>\n",
       "      <td>0.099387</td>\n",
       "      <td>0.460262</td>\n",
       "      <td>...</td>\n",
       "      <td>0.174134</td>\n",
       "      <td>0.231659</td>\n",
       "      <td>0.123869</td>\n",
       "      <td>0.999996</td>\n",
       "      <td>0.138244</td>\n",
       "      <td>0.336942</td>\n",
       "      <td>0.106253</td>\n",
       "      <td>0.309539</td>\n",
       "      <td>0.124740</td>\n",
       "      <td>0.130384</td>\n",
       "    </tr>\n",
       "  </tbody>\n",
       "</table>\n",
       "<p>5 rows × 32 columns</p>\n",
       "</div>"
      ],
      "text/plain": [
       "   eeg1__spkt_welch_density__coeff_9  eeg1__spkt_welch_density__coeff_10  \\\n",
       "0                           0.078458                            0.000000   \n",
       "1                           0.088861                            0.021423   \n",
       "2                           0.010456                            0.006504   \n",
       "3                           0.213417                            0.015829   \n",
       "4                           0.214356                            0.648196   \n",
       "\n",
       "   eeg1__spkt_welch_density__coeff_12  eeg1__spkt_welch_density__coeff_15  \\\n",
       "0                            0.082858                            0.592621   \n",
       "1                            0.270706                            0.704286   \n",
       "2                            0.100459                            0.079679   \n",
       "3                            0.124429                            0.163194   \n",
       "4                            0.293946                            0.295538   \n",
       "\n",
       "   eeg2__spkt_welch_density__coeff_9  eeg2__spkt_welch_density__coeff_10  \\\n",
       "0                           0.069686                            0.033476   \n",
       "1                           0.095792                            0.043107   \n",
       "2                           0.000000                            0.000000   \n",
       "3                           0.199963                            0.054515   \n",
       "4                           0.187450                            0.594510   \n",
       "\n",
       "   eeg2__spkt_welch_density__coeff_12  eeg2__spkt_welch_density__coeff_15  \\\n",
       "0                            0.039440                            0.485303   \n",
       "1                            0.291638                            0.596395   \n",
       "2                            0.120063                            0.098154   \n",
       "3                            0.086010                            0.161018   \n",
       "4                            0.153591                            0.276623   \n",
       "\n",
       "   eeg3__spkt_welch_density__coeff_9  eeg3__spkt_welch_density__coeff_10  ...  \\\n",
       "0                           0.094847                            0.178379  ...   \n",
       "1                           0.209185                            0.119805  ...   \n",
       "2                           0.019407                            0.000000  ...   \n",
       "3                           0.160590                            0.127305  ...   \n",
       "4                           0.099387                            0.460262  ...   \n",
       "\n",
       "   eeg6__spkt_welch_density__coeff_12  eeg6__spkt_welch_density__coeff_15  \\\n",
       "0                            0.098729                            0.515149   \n",
       "1                            0.278375                            0.666676   \n",
       "2                            0.245135                            0.045988   \n",
       "3                            0.202748                            0.122907   \n",
       "4                            0.174134                            0.231659   \n",
       "\n",
       "   eeg7__spkt_welch_density__coeff_9  eeg7__spkt_welch_density__coeff_10  \\\n",
       "0                           0.083310                            0.071161   \n",
       "1                           0.107496                            0.075556   \n",
       "2                           0.008363                            0.010662   \n",
       "3                           0.142535                            0.177783   \n",
       "4                           0.123869                            0.999996   \n",
       "\n",
       "   eeg7__spkt_welch_density__coeff_12  eeg7__spkt_welch_density__coeff_15  \\\n",
       "0                            0.035698                            0.403899   \n",
       "1                            0.221805                            0.500552   \n",
       "2                            0.319200                            0.077235   \n",
       "3                            0.167773                            0.164672   \n",
       "4                            0.138244                            0.336942   \n",
       "\n",
       "   eeg8__spkt_welch_density__coeff_9  eeg8__spkt_welch_density__coeff_10  \\\n",
       "0                           0.101287                            0.007039   \n",
       "1                           0.254235                            0.263903   \n",
       "2                           0.096402                            0.110464   \n",
       "3                           0.109984                            0.177031   \n",
       "4                           0.106253                            0.309539   \n",
       "\n",
       "   eeg8__spkt_welch_density__coeff_12  eeg8__spkt_welch_density__coeff_15  \n",
       "0                            0.161776                            0.219111  \n",
       "1                            0.291994                            0.114454  \n",
       "2                            0.572603                            0.107732  \n",
       "3                            0.178389                            0.167508  \n",
       "4                            0.124740                            0.130384  \n",
       "\n",
       "[5 rows x 32 columns]"
      ]
     },
     "execution_count": 16,
     "metadata": {},
     "output_type": "execute_result"
    }
   ],
   "source": [
    "scaler = preprocessing.MinMaxScaler()   # since the data set is not gaussian\n",
    "scaled_df = scaler.fit_transform(X11)\n",
    "X11 = pd.DataFrame(scaled_df,columns = ocolumns)\n",
    "X11.head()"
   ]
  },
  {
   "cell_type": "code",
   "execution_count": 17,
   "id": "declared-accuracy",
   "metadata": {},
   "outputs": [
    {
     "data": {
      "text/plain": [
       "SVC(C=1, gamma=1, kernel='linear')"
      ]
     },
     "execution_count": 17,
     "metadata": {},
     "output_type": "execute_result"
    }
   ],
   "source": [
    "X11_train,X11_test,y11_train,y11_test = train_test_split(X11,y11,test_size = 0.20, stratify = y11)\n",
    "\n",
    "svclassifier = SVC(kernel = 'linear',C = 1, gamma = 1)\n",
    "# C = 1.0, gamma = 1.0 for linear kernel - selected using GridSearchCV - for dataset 40\n",
    "# C = 1, gamma = 1 for rbf kernel - selected using GridSearchCV - for dataset 40\n",
    "# C = 0.01, gamma = 10 for rbf kernel - selected using GridSearchCV - for dataset 80\n",
    "# C = 10, gamma = 1 for linear kernel - selected using GridSearchCV - for dataset 80\n",
    "\n",
    "svclassifier.fit(X11_train,y11_train)"
   ]
  },
  {
   "cell_type": "code",
   "execution_count": 18,
   "id": "protective-patio",
   "metadata": {},
   "outputs": [
    {
     "name": "stderr",
     "output_type": "stream",
     "text": [
      "*c* argument looks like a single numeric RGB or RGBA sequence, which should be avoided as value-mapping will have precedence in case its length matches with *x* & *y*.  Please use the *color* keyword-argument or provide a 2-D array with a single row if you intend to specify the same RGB or RGBA value for all points.\n",
      "*c* argument looks like a single numeric RGB or RGBA sequence, which should be avoided as value-mapping will have precedence in case its length matches with *x* & *y*.  Please use the *color* keyword-argument or provide a 2-D array with a single row if you intend to specify the same RGB or RGBA value for all points.\n",
      "*c* argument looks like a single numeric RGB or RGBA sequence, which should be avoided as value-mapping will have precedence in case its length matches with *x* & *y*.  Please use the *color* keyword-argument or provide a 2-D array with a single row if you intend to specify the same RGB or RGBA value for all points.\n",
      "*c* argument looks like a single numeric RGB or RGBA sequence, which should be avoided as value-mapping will have precedence in case its length matches with *x* & *y*.  Please use the *color* keyword-argument or provide a 2-D array with a single row if you intend to specify the same RGB or RGBA value for all points.\n"
     ]
    },
    {
     "data": {
      "image/png": "[encoded data removed]",
      "text/plain": [
       "<Figure size 576x576 with 1 Axes>"
      ]
     },
     "metadata": {
      "needs_background": "light"
     },
     "output_type": "display_data"
    }
   ],
   "source": [
    "# dimensionality reduction to training set\n",
    "\n",
    "pca = PCA(n_components = 2)\n",
    "newFeatures = pca.fit_transform(X11)\n",
    "newdf = pd.DataFrame(newFeatures,columns = ['Principal Component 1', 'Principal Component 2'])\n",
    "#svclassifier.fit(newdf,y)\n",
    "newdf['CLASS'] = [int(i)-1 for i in y11]\n",
    "\n",
    "fig = plt.figure(figsize = (8,8))\n",
    "ax = fig.add_subplot(1,1,1) \n",
    "ax.set_xlabel('Principal Component 1', fontsize = 15)\n",
    "ax.set_ylabel('Principal Component 2', fontsize = 15)\n",
    "clind = list(range(5))\n",
    "colors = cm.rainbow(np.linspace(0, 1, 4))\n",
    "for ind, color in zip(clind,colors):\n",
    "    indicesToKeep = newdf['CLASS'] == ind\n",
    "    ax.scatter(newdf.loc[indicesToKeep, 'Principal Component 1']\n",
    "               , newdf.loc[indicesToKeep, 'Principal Component 2']\n",
    "               , c = color\n",
    "               , s = 50)\n",
    "ax.legend(clind)\n",
    "ax.grid()"
   ]
  },
  {
   "cell_type": "code",
   "execution_count": 19,
   "id": "unexpected-heading",
   "metadata": {},
   "outputs": [
    {
     "data": {
      "image/png": "[encoded data removed]",
      "text/plain": [
       "<Figure size 720x720 with 2 Axes>"
      ]
     },
     "metadata": {
      "needs_background": "light"
     },
     "output_type": "display_data"
    },
    {
     "name": "stdout",
     "output_type": "stream",
     "text": [
      "[3.0, 2.0, 4.0, 3.0, 2.0, 1.0, 1.0, 4.0] [2.0, 2.0, 2.0, 4.0, 2.0, 1.0, 1.0, 4.0]\n",
      "              precision    recall  f1-score   support\n",
      "\n",
      "         1.0       1.00      1.00      1.00         2\n",
      "         2.0       0.50      1.00      0.67         2\n",
      "         3.0       0.00      0.00      0.00         2\n",
      "         4.0       0.50      0.50      0.50         2\n",
      "\n",
      "    accuracy                           0.62         8\n",
      "   macro avg       0.50      0.62      0.54         8\n",
      "weighted avg       0.50      0.62      0.54         8\n",
      "\n"
     ]
    }
   ],
   "source": [
    "y_pred = svclassifier.predict(X11_test)\n",
    "#result = [y_pred[i] == y_test[i] for i in range(len(y_test))]\n",
    "f,ax = plt.subplots(figsize=(10, 10))\n",
    "sns.heatmap(confusion_matrix(y11_test,y_pred), annot=True, linewidths=.1, fmt= '.0f',ax=ax).set_ylim(4,0)\n",
    "plt.xlabel(\"Predicted Class\")\n",
    "plt.ylabel(\"Actual Class\")\n",
    "plt.show()\n",
    "print(list(y11_test),list(y_pred))\n",
    "print(classification_report(y11_test,y_pred))"
   ]
  },
  {
   "cell_type": "code",
   "execution_count": 20,
   "id": "southern-lending",
   "metadata": {},
   "outputs": [
    {
     "name": "stdout",
     "output_type": "stream",
     "text": [
      "Best Parameters:\n",
      " {'C': 1, 'gamma': 1}\n"
     ]
    }
   ],
   "source": [
    "param_grid = {'C': [0.01,0.1, 1, 10, 100,1000], 'gamma': [1, 0.1, 0.01, 0.001, 0.00001, 10,100]}\n",
    "clf_grid = GridSearchCV(SVC(kernel = 'linear'), param_grid)\n",
    "clf_grid.fit(X11, y11)\n",
    "print(\"Best Parameters:\\n\", clf_grid.best_params_)"
   ]
  },
  {
   "cell_type": "code",
   "execution_count": null,
   "id": "corresponding-mistake",
   "metadata": {},
   "outputs": [],
   "source": []
  }
 ],
 "metadata": {
  "kernelspec": {
   "display_name": "Python 3",
   "language": "python",
   "name": "python3"
  },
  "language_info": {
   "codemirror_mode": {
    "name": "ipython",
    "version": 3
   },
   "file_extension": ".py",
   "mimetype": "text/x-python",
   "name": "python",
   "nbconvert_exporter": "python",
   "pygments_lexer": "ipython3",
   "version": "3.6.12"
  }
 },
 "nbformat": 4,
 "nbformat_minor": 5
}
