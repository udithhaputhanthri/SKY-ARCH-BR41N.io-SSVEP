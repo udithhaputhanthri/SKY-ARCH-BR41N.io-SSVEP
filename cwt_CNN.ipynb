{
  "nbformat": 4,
  "nbformat_minor": 0,
  "metadata": {
    "colab": {
      "name": "cwt_CNN.ipynb",
      "provenance": [],
      "collapsed_sections": []
    },
    "kernelspec": {
      "name": "python3",
      "display_name": "Python 3"
    },
    "language_info": {
      "name": "python"
    }
  },
  "cells": [
    {
      "cell_type": "code",
      "metadata": {
        "colab": {
          "base_uri": "https://localhost:8080/"
        },
        "id": "kiJImkt3zwhJ",
        "outputId": "802c1fbc-dfc3-4fb4-e936-4f5606fcd450"
      },
      "source": [
        "from google.colab import drive\n",
        "drive.mount('/content/gdrive') # .experiments"
      ],
      "execution_count": null,
      "outputs": [
        {
          "output_type": "stream",
          "text": [
            "Mounted at /content/gdrive\n"
          ],
          "name": "stdout"
        }
      ]
    },
    {
      "cell_type": "code",
      "metadata": {
        "id": "Ssme1WyY2LLZ"
      },
      "source": [
        "import pickle\n",
        "import scipy.signal\n",
        "from scipy import signal\n",
        "import matplotlib.pyplot as plt\n",
        "import numpy as np\n"
      ],
      "execution_count": null,
      "outputs": []
    },
    {
      "cell_type": "code",
      "metadata": {
        "id": "ZH2U12lt2Nn1"
      },
      "source": [
        "def load_data(file_name):\n",
        "    with open(f'/content/gdrive/My Drive/SSVEP_BR41N_IO/{file_name}.pickle', 'rb') as f:\n",
        "        data = pickle.load(f)\n",
        "        eegs, labels = data['eegs'], data['labels']\n",
        "    return eegs, labels\n",
        "\n",
        "def filter_eeg(eeg_signal):\n",
        "    b1, a1 =scipy.signal.butter(N=6, Wn=[2, 30], btype='bandpass', fs=256)\n",
        "    b2, a2 =scipy.signal.iirnotch(w0= 50, Q=30, fs=256)\n",
        "\n",
        "\n",
        "    filtered_eeg = scipy.signal.filtfilt(b1, a1, eeg_signal)\n",
        "    filtered_eeg2 = scipy.signal.filtfilt(b2, a2, filtered_eeg)\n",
        "    return filtered_eeg2"
      ],
      "execution_count": null,
      "outputs": []
    },
    {
      "cell_type": "code",
      "metadata": {
        "id": "UIiU72dv2kTa"
      },
      "source": [
        "subject=1\n",
        "\n",
        "eeg_run1, labels_run1 = load_data(f\"data_sub{subject}_train1\")\n",
        "eeg_run2, labels_run2 = load_data(f\"data_sub{subject}_train2\")"
      ],
      "execution_count": null,
      "outputs": []
    },
    {
      "cell_type": "code",
      "metadata": {
        "id": "z73ge0v_32ho"
      },
      "source": [
        "eeg_run1 = filter_eeg(eeg_run1)\n",
        "eeg_run2 = filter_eeg(eeg_run2)\n",
        "\n",
        "labels_run1= np.array(labels_run1)-1\n",
        "labels_run2= np.array(labels_run2)-1"
      ],
      "execution_count": null,
      "outputs": []
    },
    {
      "cell_type": "code",
      "metadata": {
        "id": "xb3yk4ZA7ngn"
      },
      "source": [
        "def obtain_cwt(eeg_signals, n_freq=31):\n",
        "    widths = np.arange(1, n_freq)\n",
        "    eeg_cwt=[]\n",
        "    for eeg_signal in eeg_signals:\n",
        "        cwt_channels=[]\n",
        "        for channel in eeg_signal:\n",
        "            cwt_channels.append(signal.cwt(channel, signal.morle, widths))\n",
        "        eeg_cwt.append(cwt_channels)\n",
        "    return np.array(eeg_cwt)"
      ],
      "execution_count": null,
      "outputs": []
    },
    {
      "cell_type": "code",
      "metadata": {
        "id": "8XtJf-ZR80qR"
      },
      "source": [
        "cwt_run1 = np.transpose(obtain_cwt(eeg_run1, 29), [0, 2, 3, 1])\n",
        "cwt_run2 = np.transpose(obtain_cwt(eeg_run2, 29), [0, 2, 3, 1])"
      ],
      "execution_count": null,
      "outputs": []
    },
    {
      "cell_type": "code",
      "metadata": {
        "id": "vYVi7TYCWdLy"
      },
      "source": [
        "eegs= eeg_run1\n",
        "labels= labels_run1\n",
        "\n",
        "eegs_1= eegs[np.where(labels==1)]\n",
        "eegs_2= eegs[np.where(labels==2)]\n",
        "eegs_3= eegs[np.where(labels==3)]\n",
        "eegs_4= eegs[np.where(labels==4)]\n",
        "\n",
        "cwt_1 = np.transpose(obtain_cwt(eegs_1, 100), [0, 2, 3, 1])\n",
        "cwt_2 = np.transpose(obtain_cwt(eegs_2, 100), [0, 2, 3, 1])\n",
        "cwt_3 = np.transpose(obtain_cwt(eegs_3, 100), [0, 2, 3, 1])\n",
        "cwt_4 = np.transpose(obtain_cwt(eegs_4, 100), [0, 2, 3, 1])"
      ],
      "execution_count": null,
      "outputs": []
    },
    {
      "cell_type": "code",
      "metadata": {
        "id": "i6zrLJwrUonW"
      },
      "source": [
        "for channel in range(8):\n",
        "    plt.imshow(np.abs(cwt_1[0,:,:,channel]))\n",
        "    plt.show()"
      ],
      "execution_count": null,
      "outputs": []
    },
    {
      "cell_type": "code",
      "metadata": {
        "id": "8ouyOeV6W7YK"
      },
      "source": [
        "for channel in range(8):\n",
        "    plt.imshow(np.abs(cwt_2[0,:,:,channel]))\n",
        "    plt.show()"
      ],
      "execution_count": null,
      "outputs": []
    },
    {
      "cell_type": "code",
      "metadata": {
        "id": "sZ5L-qYUW_no"
      },
      "source": [
        "for channel in range(8):\n",
        "    plt.imshow(np.abs(cwt_3[0,:,:,channel]))\n",
        "    plt.show()"
      ],
      "execution_count": null,
      "outputs": []
    },
    {
      "cell_type": "code",
      "metadata": {
        "id": "2GXRAxDk8d9D"
      },
      "source": [
        "import tensorflow as tf\n",
        "from tensorflow.keras import datasets, layers, models\n",
        "\n",
        "def train_cnn_model(cwt_run1, labels_run1, cwt_run2=None, labels_run2=None, epochs=None, val_run2=False):\n",
        "    model = models.Sequential()\n",
        "    model.add(layers.Conv2D(32, (3, 3), activation='relu',  input_shape=(cwt_run1.shape[1], cwt_run1.shape[2], cwt_run1.shape[3]))) # channel_last (cwt_run1.shape[3]= 8)\n",
        "    model.add(layers.MaxPooling2D((2, 2)))\n",
        "    model.add(layers.Conv2D(32, (3, 3), activation='relu'))\n",
        "    model.add(layers.MaxPooling2D((2, 2)))\n",
        "    model.add(layers.Conv2D(32, (3, 3), activation='relu'))\n",
        "    model.add(layers.Flatten())\n",
        "    model.add(layers.Dense(64, activation='relu'))\n",
        "    model.add(layers.Dense(4, activation='softmax'))\n",
        "\n",
        "    model.compile(optimizer='adam',\n",
        "              loss=tf.keras.losses.SparseCategoricalCrossentropy(from_logits=True),\n",
        "              metrics=['accuracy'])\n",
        "\n",
        "    if not val_run2:\n",
        "        history = model.fit(cwt_run1, labels_run1, epochs=epochs, validation_split=0.3)#,validation_data=test_dataset)\n",
        "    else:\n",
        "        history = model.fit(cwt_run1, labels_run1, epochs=epochs,validation_data=[cwt_run2, labels_run2])\n",
        "    \n",
        "\n",
        "    plt.plot(history.history['loss'], label='loss')\n",
        "    plt.plot(history.history['val_loss'], label='val_loss')\n",
        "    plt.show()\n",
        "\n",
        "    return history"
      ],
      "execution_count": null,
      "outputs": []
    },
    {
      "cell_type": "code",
      "metadata": {
        "colab": {
          "base_uri": "https://localhost:8080/",
          "height": 1000
        },
        "id": "Vygke4N8Cwb2",
        "outputId": "3ccba08c-cb10-4b1f-94cd-0e65ac60c2b4"
      },
      "source": [
        "hist = train_cnn_model(np.array(list(cwt_run1)+list(cwt_run2)), np.array(list(labels_run1)+list(labels_run2)), epochs= 25)"
      ],
      "execution_count": null,
      "outputs": [
        {
          "output_type": "stream",
          "text": [
            "Epoch 1/25\n",
            "2/2 [==============================] - 7s 3s/step - loss: 47.9283 - accuracy: 0.3170 - val_loss: 78.0374 - val_accuracy: 0.2500\n",
            "Epoch 2/25\n",
            "2/2 [==============================] - 6s 3s/step - loss: 71.7226 - accuracy: 0.2039 - val_loss: 20.6376 - val_accuracy: 0.2500\n",
            "Epoch 3/25\n",
            "2/2 [==============================] - 6s 3s/step - loss: 16.4327 - accuracy: 0.2827 - val_loss: 3.6618 - val_accuracy: 0.2083\n",
            "Epoch 4/25\n",
            "2/2 [==============================] - 6s 3s/step - loss: 2.8808 - accuracy: 0.3631 - val_loss: 2.3855 - val_accuracy: 0.2500\n",
            "Epoch 5/25\n",
            "2/2 [==============================] - 6s 3s/step - loss: 1.6072 - accuracy: 0.4226 - val_loss: 1.3983 - val_accuracy: 0.2500\n",
            "Epoch 6/25\n",
            "2/2 [==============================] - 6s 3s/step - loss: 1.1092 - accuracy: 0.6012 - val_loss: 1.3899 - val_accuracy: 0.3333\n",
            "Epoch 7/25\n",
            "2/2 [==============================] - 6s 3s/step - loss: 1.0806 - accuracy: 0.5580 - val_loss: 1.3743 - val_accuracy: 0.3750\n",
            "Epoch 8/25\n",
            "2/2 [==============================] - 6s 3s/step - loss: 0.8780 - accuracy: 0.7381 - val_loss: 1.4460 - val_accuracy: 0.2917\n",
            "Epoch 9/25\n",
            "2/2 [==============================] - 6s 3s/step - loss: 0.6600 - accuracy: 0.7411 - val_loss: 1.5505 - val_accuracy: 0.2917\n",
            "Epoch 10/25\n",
            "2/2 [==============================] - 6s 3s/step - loss: 0.3192 - accuracy: 0.9539 - val_loss: 2.0108 - val_accuracy: 0.2083\n",
            "Epoch 11/25\n",
            "2/2 [==============================] - 6s 3s/step - loss: 0.1512 - accuracy: 0.9881 - val_loss: 2.5445 - val_accuracy: 0.0833\n",
            "Epoch 12/25\n",
            "2/2 [==============================] - 6s 3s/step - loss: 0.0473 - accuracy: 1.0000 - val_loss: 3.0231 - val_accuracy: 0.0833\n",
            "Epoch 13/25\n",
            "2/2 [==============================] - 6s 3s/step - loss: 0.0137 - accuracy: 1.0000 - val_loss: 3.4746 - val_accuracy: 0.0833\n",
            "Epoch 14/25\n",
            "2/2 [==============================] - 6s 3s/step - loss: 0.0034 - accuracy: 1.0000 - val_loss: 4.2083 - val_accuracy: 0.1250\n",
            "Epoch 15/25\n",
            "2/2 [==============================] - 6s 3s/step - loss: 0.0030 - accuracy: 1.0000 - val_loss: 4.9548 - val_accuracy: 0.1667\n",
            "Epoch 16/25\n",
            "2/2 [==============================] - 6s 3s/step - loss: 0.0021 - accuracy: 1.0000 - val_loss: 5.5035 - val_accuracy: 0.1250\n",
            "Epoch 17/25\n",
            "2/2 [==============================] - 6s 3s/step - loss: 7.5954e-04 - accuracy: 1.0000 - val_loss: 6.0010 - val_accuracy: 0.1250\n",
            "Epoch 18/25\n",
            "2/2 [==============================] - 6s 3s/step - loss: 1.9692e-04 - accuracy: 1.0000 - val_loss: 6.4795 - val_accuracy: 0.1250\n",
            "Epoch 19/25\n",
            "2/2 [==============================] - 6s 3s/step - loss: 1.4329e-04 - accuracy: 1.0000 - val_loss: 6.9065 - val_accuracy: 0.1250\n",
            "Epoch 20/25\n",
            "2/2 [==============================] - 5s 3s/step - loss: 1.2558e-04 - accuracy: 1.0000 - val_loss: 7.2820 - val_accuracy: 0.1250\n",
            "Epoch 21/25\n",
            "2/2 [==============================] - 5s 3s/step - loss: 1.2395e-04 - accuracy: 1.0000 - val_loss: 7.5943 - val_accuracy: 0.1667\n",
            "Epoch 22/25\n",
            "2/2 [==============================] - 5s 3s/step - loss: 1.2256e-04 - accuracy: 1.0000 - val_loss: 7.8300 - val_accuracy: 0.1667\n",
            "Epoch 23/25\n",
            "2/2 [==============================] - 5s 3s/step - loss: 1.1110e-04 - accuracy: 1.0000 - val_loss: 7.9973 - val_accuracy: 0.1667\n",
            "Epoch 24/25\n",
            "2/2 [==============================] - 5s 3s/step - loss: 7.4560e-05 - accuracy: 1.0000 - val_loss: 8.1163 - val_accuracy: 0.1667\n",
            "Epoch 25/25\n",
            "2/2 [==============================] - 5s 3s/step - loss: 5.4244e-05 - accuracy: 1.0000 - val_loss: 8.2038 - val_accuracy: 0.1667\n"
          ],
          "name": "stdout"
        },
        {
          "output_type": "display_data",
          "data": {
            "image/png": "[encoded data removed]",
            "text/plain": [
              "<Figure size 432x288 with 1 Axes>"
            ]
          },
          "metadata": {
            "tags": [],
            "needs_background": "light"
          }
        }
      ]
    },
    {
      "cell_type": "code",
      "metadata": {
        "id": "Tg-hJW32JmtV"
      },
      "source": [
        "hist = train_cnn_model(cwt_run1, labels_run1, epochs = 25)"
      ],
      "execution_count": null,
      "outputs": []
    },
    {
      "cell_type": "code",
      "metadata": {
        "id": "4u02e4uaLCgO"
      },
      "source": [
        "hist = train_cnn_model(cwt_run2, labels_run2, epochs = 25)"
      ],
      "execution_count": null,
      "outputs": []
    },
    {
      "cell_type": "code",
      "metadata": {
        "id": "HGYgEjaXHOma"
      },
      "source": [
        "train_cnn_model(cwt_run1, labels_run1, cwt_run2, labels_run2, epochs=25, val_run2=False)"
      ],
      "execution_count": null,
      "outputs": []
    }
  ]
}