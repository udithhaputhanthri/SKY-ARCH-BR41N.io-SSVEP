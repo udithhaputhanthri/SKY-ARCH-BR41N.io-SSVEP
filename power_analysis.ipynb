{
  "nbformat": 4,
  "nbformat_minor": 0,
  "metadata": {
    "colab": {
      "name": "power_analysis.ipynb",
      "provenance": [],
      "collapsed_sections": []
    },
    "kernelspec": {
      "name": "python3",
      "display_name": "Python 3"
    },
    "language_info": {
      "name": "python"
    }
  },
  "cells": [
    {
      "cell_type": "code",
      "metadata": {
        "colab": {
          "base_uri": "https://localhost:8080/"
        },
        "id": "kiJImkt3zwhJ",
        "outputId": "f866c0c2-b5ea-488e-a489-c8cb2836f7a3"
      },
      "source": [
        "from google.colab import drive\n",
        "drive.mount('/content/gdrive') # .experiments"
      ],
      "execution_count": null,
      "outputs": [
        {
          "output_type": "stream",
          "text": [
            "Mounted at /content/gdrive\n"
          ],
          "name": "stdout"
        }
      ]
    },
    {
      "cell_type": "code",
      "metadata": {
        "id": "Ssme1WyY2LLZ"
      },
      "source": [
        "import pickle\n",
        "import scipy.signal\n",
        "from scipy import signal\n",
        "import matplotlib.pyplot as plt\n",
        "import numpy as np\n"
      ],
      "execution_count": null,
      "outputs": []
    },
    {
      "cell_type": "code",
      "metadata": {
        "id": "ZH2U12lt2Nn1"
      },
      "source": [
        "\n",
        "\n",
        "def load_data(file_name):\n",
        "    with open(f'/content/gdrive/My Drive/SSVEP_BR41N_IO/{file_name}.pickle', 'rb') as f:\n",
        "        data = pickle.load(f)\n",
        "        eegs, labels = data['eegs'], data['labels']\n",
        "    return eegs, labels\n",
        "\n",
        "def filter_eeg(eeg_signal):\n",
        "    b1, a1 =scipy.signal.butter(N=6, Wn=[0.5, 30], btype='bandpass', fs=256)\n",
        "    b2, a2 =scipy.signal.iirnotch(w0= 50, Q=30, fs=256)\n",
        "\n",
        "\n",
        "    filtered_eeg = scipy.signal.filtfilt(b1, a1, eeg_signal)\n",
        "    filtered_eeg2 = scipy.signal.filtfilt(b2, a2, filtered_eeg)\n",
        "    return filtered_eeg2"
      ],
      "execution_count": null,
      "outputs": []
    },
    {
      "cell_type": "code",
      "metadata": {
        "id": "UIiU72dv2kTa"
      },
      "source": [
        "subject=2\n",
        "\n",
        "eeg_run1, labels_run1 = load_data(f\"data_sub{subject}_train1\")\n",
        "eeg_run2, labels_run2 = load_data(f\"data_sub{subject}_train2\")"
      ],
      "execution_count": null,
      "outputs": []
    },
    {
      "cell_type": "code",
      "metadata": {
        "id": "z73ge0v_32ho"
      },
      "source": [
        "eeg_run1 = filter_eeg(eeg_run1)\n",
        "eeg_run2 = filter_eeg(eeg_run2)\n",
        "\n",
        "labels_run1= np.array(labels_run1)-1\n",
        "labels_run2= np.array(labels_run2)-1"
      ],
      "execution_count": null,
      "outputs": []
    },
    {
      "cell_type": "markdown",
      "metadata": {
        "id": "373UCaW1QsDv"
      },
      "source": [
        "## Power Spectral Analysis"
      ]
    },
    {
      "cell_type": "code",
      "metadata": {
        "colab": {
          "base_uri": "https://localhost:8080/"
        },
        "id": "D12ZFr-onKIL",
        "outputId": "b54e722c-b59c-4cf0-fee7-7ae60bc1db4b"
      },
      "source": [
        "dt = 1/ 256  # 256 Hz sampling\n",
        "pywt.scale2frequency('cmor1.5-1.0', [28.4, 25.6, 21.33, 17.06]) / dt # desired freqs: 9, 10, 12, 15\n"
      ],
      "execution_count": null,
      "outputs": [
        {
          "output_type": "execute_result",
          "data": {
            "text/plain": [
              "array([ 9.01408451, 10.        , 12.00187529, 15.00586166])"
            ]
          },
          "metadata": {
            "tags": []
          },
          "execution_count": 131
        }
      ]
    },
    {
      "cell_type": "code",
      "metadata": {
        "colab": {
          "base_uri": "https://localhost:8080/",
          "height": 88
        },
        "id": "_JZXxW21iUgw",
        "outputId": "61862621-8667-4574-8c9e-e2bbc512e845"
      },
      "source": [
        "import pywt\n",
        "import numpy as np\n",
        "import matplotlib.pyplot as plt\n",
        "\n",
        "channel= eeg_run1[0,0]\n",
        "y = channel\n",
        "coef, freqs=pywt.cwt(y,[28.4, 25.6, 21.33, 17.06],'cmor1.5-1.0') # corf.shape: (4, 768) -> (0-> 9Hz, 1-> 10HZ, ETC) \n",
        "plt.figure(figsize=(5,5))\n",
        "plt.matshow(np.abs(coef))\n",
        "print(freqs*256)"
      ],
      "execution_count": null,
      "outputs": [
        {
          "output_type": "stream",
          "text": [
            "[ 9.01408451 10.         12.00187529 15.00586166]\n"
          ],
          "name": "stdout"
        },
        {
          "output_type": "display_data",
          "data": {
            "text/plain": [
              "<Figure size 360x360 with 0 Axes>"
            ]
          },
          "metadata": {
            "tags": []
          }
        },
        {
          "output_type": "display_data",
          "data": {
            "image/png": "[encoded data removed]",
            "text/plain": [
              "<Figure size 1152x144 with 1 Axes>"
            ]
          },
          "metadata": {
            "tags": [],
            "needs_background": "light"
          }
        }
      ]
    },
    {
      "cell_type": "code",
      "metadata": {
        "id": "JxrHXOwNrymx"
      },
      "source": [
        "img = list(np.abs(coef[0])*np.ones((100, 768))) + list(np.abs(coef[1])*np.ones((100, 768))) + list(np.abs(coef[2])*np.ones((100, 768))) + list(np.abs(coef[3])*np.ones((100, 768)))"
      ],
      "execution_count": null,
      "outputs": []
    },
    {
      "cell_type": "code",
      "metadata": {
        "id": "tksKgL-tr2ko"
      },
      "source": [
        ""
      ],
      "execution_count": null,
      "outputs": []
    },
    {
      "cell_type": "code",
      "metadata": {
        "colab": {
          "base_uri": "https://localhost:8080/",
          "height": 243
        },
        "id": "XC3cx_YsrTWU",
        "outputId": "0cb47a39-f9ba-415d-81e6-5d4948b82635"
      },
      "source": [
        "plt.imshow(img)"
      ],
      "execution_count": null,
      "outputs": [
        {
          "output_type": "execute_result",
          "data": {
            "text/plain": [
              "<matplotlib.image.AxesImage at 0x7fd455803150>"
            ]
          },
          "metadata": {
            "tags": []
          },
          "execution_count": 134
        },
        {
          "output_type": "display_data",
          "data": {
            "image/png": "[encoded data removed]",
            "text/plain": [
              "<Figure size 432x288 with 1 Axes>"
            ]
          },
          "metadata": {
            "tags": [],
            "needs_background": "light"
          }
        }
      ]
    },
    {
      "cell_type": "code",
      "metadata": {
        "id": "EmoCmBjUpnh8"
      },
      "source": [
        "def obtain_cwt(eeg_signals, scale_arr= [28.4, 25.6, 21.33, 17.06]): # returns cwt with 4 scales correspinds to 9, 10, 12, 15 Hz\n",
        "    eeg_cwt=[]\n",
        "    for eeg_signal in eeg_signals:\n",
        "        cwt_channels=[]\n",
        "        for channel in eeg_signal:\n",
        "            cwt_channels.append(np.abs(pywt.cwt(channel,scale_arr,'cmor1.5-1.0')[0]))\n",
        "        eeg_cwt.append(cwt_channels)\n",
        "    return np.array(eeg_cwt)\n",
        "\n"
      ],
      "execution_count": null,
      "outputs": []
    },
    {
      "cell_type": "code",
      "metadata": {
        "id": "BinfFEPqp-il"
      },
      "source": [
        ""
      ],
      "execution_count": null,
      "outputs": []
    },
    {
      "cell_type": "code",
      "metadata": {
        "id": "bqc5C7Koqz_r"
      },
      "source": [
        "def obtain_power_festures_per_channel(cwt_2d):\n",
        "    power_plot=[]\n",
        "    for freq_ax in cwt_2d:\n",
        "        power_plot.append(np.sum(np.square(np.abs(freq_ax))))\n",
        "    return np.array(power_plot)\n",
        "\n",
        "def obtain_power_features(cwt_3d):\n",
        "    power_features=[]\n",
        "    for cwt_2d in cwt_3d:\n",
        "        power_features+=list(obtain_power_festures_per_channel(cwt_2d))\n",
        "    return np.array(power_features) # returns (32,) array for single sample\n",
        "\n",
        "def get_power_dataset(cwt_dataset):\n",
        "    dataset=[]\n",
        "    for cwt_sample in cwt_dataset:\n",
        "        dataset.append(obtain_power_features(cwt_sample)) # returns (32,) feature vector\n",
        "    return np.array(dataset)"
      ],
      "execution_count": null,
      "outputs": []
    },
    {
      "cell_type": "code",
      "metadata": {
        "colab": {
          "base_uri": "https://localhost:8080/"
        },
        "id": "kTaS9EMX13Re",
        "outputId": "fdcaee46-5183-4b57-a733-b927c438755f"
      },
      "source": [
        "import time\n",
        "\n",
        "subject=2\n",
        "\n",
        "eeg_run1, labels_run1 = load_data(f\"data_sub{subject}_train1\")\n",
        "eeg_run2, labels_run2 = load_data(f\"data_sub{subject}_train2\")\n",
        "\n",
        "start = time.time()\n",
        "\n",
        "eeg_run1 = filter_eeg(eeg_run1)\n",
        "eeg_run2 = filter_eeg(eeg_run2)\n",
        "\n",
        "cwt_run1 = obtain_cwt(eeg_run1)\n",
        "cwt_run2 = obtain_cwt(eeg_run2)\n",
        "\n",
        "power_run1 = get_power_dataset(cwt_run1)\n",
        "power_run2 = get_power_dataset(cwt_run2)\n",
        "\n",
        "end= time.time()\n",
        "print(f'mean time for feature extraction : {(end- start)/(power_run1.shape[0]+power_run2.shape[0])}')"
      ],
      "execution_count": null,
      "outputs": [
        {
          "output_type": "stream",
          "text": [
            "mean time for feature extraction : 0.01334221065044403\n"
          ],
          "name": "stdout"
        }
      ]
    },
    {
      "cell_type": "code",
      "metadata": {
        "colab": {
          "base_uri": "https://localhost:8080/"
        },
        "id": "qNLdaTr5sgoM",
        "outputId": "29829757-c3c0-4b4f-ce49-88ee9ca3b515"
      },
      "source": [
        "import numpy as np\n",
        "from sklearn.pipeline import make_pipeline\n",
        "from sklearn.preprocessing import StandardScaler\n",
        "from sklearn.model_selection import train_test_split\n",
        "\n",
        "X = power_run2\n",
        "y = labels_run2\n",
        "X_train, X_test, y_train, y_test = train_test_split(X, y, test_size=0.3, random_state=42)\n",
        "\n",
        "#X_train = power_run1\n",
        "#y_train = labels_run1\n",
        "#X_test = power_run2\n",
        "#y_test = labels_run2\n",
        "\n",
        "from sklearn.svm import SVC\n",
        "clf = make_pipeline(StandardScaler(), SVC(gamma='auto'))\n",
        "clf.fit(X_train, y_train)\n",
        "print(f'train acc : {clf.score(X_train,y_train)} \\ntest acc : {clf.score(X_test,y_test)}')"
      ],
      "execution_count": null,
      "outputs": [
        {
          "output_type": "stream",
          "text": [
            "train acc : 0.8214285714285714 \n",
            "test acc : 0.3333333333333333\n"
          ],
          "name": "stdout"
        }
      ]
    },
    {
      "cell_type": "code",
      "metadata": {
        "id": "MiCjXHQo5-0G"
      },
      "source": [
        ""
      ],
      "execution_count": null,
      "outputs": []
    },
    {
      "cell_type": "code",
      "metadata": {
        "id": "lwcj80KdsxjC"
      },
      "source": [
        "################  ALL_MODELS ######################\n",
        "\n",
        "import sklearn\n",
        "from sklearn.ensemble import *\n",
        "from sklearn.neighbors import *\n",
        "from sklearn.linear_model import *\n",
        "from sklearn.svm import *\n",
        "from sklearn.tree import *\n",
        "\n",
        "\n",
        "# common models\n",
        "model1=KNeighborsClassifier()\n",
        "model2=RadiusNeighborsClassifier(radius=10)\n",
        "model3=PassiveAggressiveClassifier()\n",
        "model4=RidgeClassifier()\n",
        "model5=RidgeClassifierCV()\n",
        "model6=SGDClassifier()\n",
        "model7=LinearSVC()\n",
        "model8=NuSVC()\n",
        "model9=SVC()\n",
        "model10=DecisionTreeClassifier()\n",
        "model11=ExtraTreeClassifier()\n",
        "\n",
        "#models_from_ensemble\n",
        "model12=AdaBoostClassifier()\n",
        "model13=BaggingClassifier()\n",
        "model14=ExtraTreesClassifier(n_estimators=1000)\n",
        "model15=GradientBoostingClassifier()\n",
        "model16=RandomForestClassifier()\n",
        "\n",
        "# Using multiple models\n",
        "\n",
        "estimators=[('model2',model2),('model12',model12),('model14',model14) ]\n",
        "\n",
        "model17=StackingClassifier(estimators = estimators)\n",
        "model18=VotingClassifier(estimators=estimators)\n",
        "\n",
        "####################### all_models ############################\n",
        "models=[model1,model2,model3,model4,model5,model6,model7,model8,model9,model10,model11,model12,model13,model14,model15,model16,model17,model18]"
      ],
      "execution_count": null,
      "outputs": []
    },
    {
      "cell_type": "code",
      "metadata": {
        "id": "fh5XVinp6ArN"
      },
      "source": [
        "X1 = power_run1\n",
        "y1 = labels_run1\n",
        "X2 = power_run2\n",
        "y2 = labels_run2\n",
        "\n",
        "#X1 = workshop_run1\n",
        "#y1 = labels_run1\n",
        "#X2 = workshop_run2\n",
        "#y2 = labels_run2\n",
        "\n",
        "\n",
        "def give_train_test(X1, y1, X2, y2, mode):\n",
        "    if mode==0:X_train, X_test, y_train, y_test = train_test_split(X1, y1, test_size=0.2, random_state=42)\n",
        "    if mode==1:X_train, X_test, y_train, y_test = train_test_split(X2, y2, test_size=0.2, random_state=42)\n",
        "    if mode==2:\n",
        "        X_train = X1\n",
        "        y_train = y1\n",
        "        X_test = X2\n",
        "        y_test = y2\n",
        "    if mode==3:\n",
        "        X=np.array(list(X1)+list(X2))\n",
        "        y=np.array(list(y1)+list(y2))\n",
        "\n",
        "        X_train, X_test, y_train, y_test = train_test_split(X, y, test_size=0.2, random_state=42)\n",
        "    return X_train, X_test, y_train, y_test"
      ],
      "execution_count": null,
      "outputs": []
    },
    {
      "cell_type": "code",
      "metadata": {
        "colab": {
          "base_uri": "https://localhost:8080/"
        },
        "id": "WhwFAD8h2r_H",
        "outputId": "72ff79d6-0aa8-4175-c733-ef8e5e0cc84f"
      },
      "source": [
        "\n",
        "X_train, X_test, y_train, y_test = give_train_test(X1, y1, X2, y2, mode=2)\n",
        "# TRAINING ALL THE MODELS\n",
        "\n",
        "from sklearn.metrics import accuracy_score\n",
        "import matplotlib.pyplot as plt\n",
        "\n",
        "i=0\n",
        "importances=[]\n",
        "for model in [model11, model15]:\n",
        "    i+=1\n",
        "    model.fit(X_train,y_train)\n",
        "\n",
        "    start= time.time()\n",
        "    pred=model.predict(X_test)\n",
        "    end= time.time()\n",
        "\n",
        "    test_acc = accuracy_score(y_test,pred)\n",
        "\n",
        "    print(f'{str(model.__class__)} : mean time for prediction : {(end- start)/X_test.shape[0]} sec')\n",
        "\n",
        "    #print(str(i)+'___'+str(model.__class__)+(100-len(str(model.__class__)))*'>'+'__',test_acc)"
      ],
      "execution_count": null,
      "outputs": [
        {
          "output_type": "stream",
          "text": [
            "<class 'sklearn.tree._classes.ExtraTreeClassifier'> : mean time for prediction : 1.0371208190917969e-05 sec\n",
            "<class 'sklearn.ensemble._gb.GradientBoostingClassifier'> : mean time for prediction : 2.1731853485107423e-05 sec\n"
          ],
          "name": "stdout"
        }
      ]
    },
    {
      "cell_type": "code",
      "metadata": {
        "colab": {
          "base_uri": "https://localhost:8080/"
        },
        "id": "G29SQqR-nk9l",
        "outputId": "9dabede6-de70-446d-f362-82b34f74c44b"
      },
      "source": [
        "for mode in [0,1,2,3]:\n",
        "    print('\\n\\n*************\\n\\n')\n",
        "\n",
        "    X_train, X_test, y_train, y_test = give_train_test(X1, y1, X2, y2, mode)\n",
        "    # TRAINING ALL THE MODELS\n",
        "\n",
        "    from sklearn.metrics import accuracy_score\n",
        "    import matplotlib.pyplot as plt\n",
        "\n",
        "    i=0\n",
        "    importances=[]\n",
        "    for model in models:\n",
        "        i+=1\n",
        "        try:\n",
        "            model.fit(X_train,y_train)\n",
        "        except Exception as e: print('Error in model.fit >>>',e)\n",
        "        try:\n",
        "            pred=model.predict(X_test)\n",
        "        except Exception as e: print('Error in model.predict >>>',e)\n",
        "        print(str(i)+'___'+str(model.__class__)+(100-len(str(model.__class__)))*'>'+'__',accuracy_score(y_test,pred))\n",
        "        try:\n",
        "            importances.append([i-1,model.feature_importances_])\n",
        "        except AttributeError:\n",
        "            pass"
      ],
      "execution_count": null,
      "outputs": [
        {
          "output_type": "stream",
          "text": [
            "\n",
            "\n",
            "*************\n",
            "\n",
            "\n",
            "1___<class 'sklearn.neighbors._classification.KNeighborsClassifier'>>>>>>>>>>>>>>>>>>>>>>>>>>>>>>>>>>>>>__ 0.0\n",
            "Error in model.predict >>> No neighbors found for test samples array([0, 1, 2, 3, 4, 5, 6, 7]), you can try using larger radius, giving a label for outliers, or considering removing them from your dataset.\n",
            "2___<class 'sklearn.neighbors._classification.RadiusNeighborsClassifier'>>>>>>>>>>>>>>>>>>>>>>>>>>>>>>>>__ 0.0\n",
            "3___<class 'sklearn.linear_model._passive_aggressive.PassiveAggressiveClassifier'>>>>>>>>>>>>>>>>>>>>>>>__ 0.0\n",
            "4___<class 'sklearn.linear_model._ridge.RidgeClassifier'>>>>>>>>>>>>>>>>>>>>>>>>>>>>>>>>>>>>>>>>>>>>>>>>__ 0.25\n",
            "5___<class 'sklearn.linear_model._ridge.RidgeClassifierCV'>>>>>>>>>>>>>>>>>>>>>>>>>>>>>>>>>>>>>>>>>>>>>>__ 0.25\n",
            "6___<class 'sklearn.linear_model._stochastic_gradient.SGDClassifier'>>>>>>>>>>>>>>>>>>>>>>>>>>>>>>>>>>>>__ 0.25\n",
            "7___<class 'sklearn.svm._classes.LinearSVC'>>>>>>>>>>>>>>>>>>>>>>>>>>>>>>>>>>>>>>>>>>>>>>>>>>>>>>>>>>>>>__ 0.375\n",
            "8___<class 'sklearn.svm._classes.NuSVC'>>>>>>>>>>>>>>>>>>>>>>>>>>>>>>>>>>>>>>>>>>>>>>>>>>>>>>>>>>>>>>>>>__ 0.0\n",
            "9___<class 'sklearn.svm._classes.SVC'>>>>>>>>>>>>>>>>>>>>>>>>>>>>>>>>>>>>>>>>>>>>>>>>>>>>>>>>>>>>>>>>>>>__ 0.125\n",
            "10___<class 'sklearn.tree._classes.DecisionTreeClassifier'>>>>>>>>>>>>>>>>>>>>>>>>>>>>>>>>>>>>>>>>>>>>>>>__ 0.25\n",
            "11___<class 'sklearn.tree._classes.ExtraTreeClassifier'>>>>>>>>>>>>>>>>>>>>>>>>>>>>>>>>>>>>>>>>>>>>>>>>>>__ 0.125\n",
            "12___<class 'sklearn.ensemble._weight_boosting.AdaBoostClassifier'>>>>>>>>>>>>>>>>>>>>>>>>>>>>>>>>>>>>>>>__ 0.125\n",
            "13___<class 'sklearn.ensemble._bagging.BaggingClassifier'>>>>>>>>>>>>>>>>>>>>>>>>>>>>>>>>>>>>>>>>>>>>>>>>__ 0.0\n"
          ],
          "name": "stdout"
        },
        {
          "output_type": "stream",
          "text": [
            "/usr/local/lib/python3.7/dist-packages/sklearn/svm/_base.py:947: ConvergenceWarning: Liblinear failed to converge, increase the number of iterations.\n",
            "  \"the number of iterations.\", ConvergenceWarning)\n"
          ],
          "name": "stderr"
        },
        {
          "output_type": "stream",
          "text": [
            "14___<class 'sklearn.ensemble._forest.ExtraTreesClassifier'>>>>>>>>>>>>>>>>>>>>>>>>>>>>>>>>>>>>>>>>>>>>>>__ 0.25\n",
            "15___<class 'sklearn.ensemble._gb.GradientBoostingClassifier'>>>>>>>>>>>>>>>>>>>>>>>>>>>>>>>>>>>>>>>>>>>>__ 0.25\n",
            "16___<class 'sklearn.ensemble._forest.RandomForestClassifier'>>>>>>>>>>>>>>>>>>>>>>>>>>>>>>>>>>>>>>>>>>>>__ 0.0\n",
            "Error in model.fit >>> No neighbors found for test samples array([0, 1, 2, 3, 4, 5, 6]), you can try using larger radius, giving a label for outliers, or considering removing them from your dataset.\n",
            "Error in model.predict >>> No neighbors found for test samples array([0, 1, 2, 3, 4, 5, 6, 7]), you can try using larger radius, giving a label for outliers, or considering removing them from your dataset.\n",
            "17___<class 'sklearn.ensemble._stacking.StackingClassifier'>>>>>>>>>>>>>>>>>>>>>>>>>>>>>>>>>>>>>>>>>>>>>>__ 0.0\n",
            "Error in model.predict >>> No neighbors found for test samples array([0, 1, 2, 3, 4, 5, 6, 7]), you can try using larger radius, giving a label for outliers, or considering removing them from your dataset.\n",
            "18___<class 'sklearn.ensemble._voting.VotingClassifier'>>>>>>>>>>>>>>>>>>>>>>>>>>>>>>>>>>>>>>>>>>>>>>>>>>__ 0.0\n",
            "\n",
            "\n",
            "*************\n",
            "\n",
            "\n",
            "1___<class 'sklearn.neighbors._classification.KNeighborsClassifier'>>>>>>>>>>>>>>>>>>>>>>>>>>>>>>>>>>>>>__ 0.125\n",
            "Error in model.predict >>> No neighbors found for test samples array([0, 1, 2, 3, 4, 5, 6, 7]), you can try using larger radius, giving a label for outliers, or considering removing them from your dataset.\n",
            "2___<class 'sklearn.neighbors._classification.RadiusNeighborsClassifier'>>>>>>>>>>>>>>>>>>>>>>>>>>>>>>>>__ 0.125\n",
            "3___<class 'sklearn.linear_model._passive_aggressive.PassiveAggressiveClassifier'>>>>>>>>>>>>>>>>>>>>>>>__ 0.375\n",
            "4___<class 'sklearn.linear_model._ridge.RidgeClassifier'>>>>>>>>>>>>>>>>>>>>>>>>>>>>>>>>>>>>>>>>>>>>>>>>__ 0.75\n",
            "5___<class 'sklearn.linear_model._ridge.RidgeClassifierCV'>>>>>>>>>>>>>>>>>>>>>>>>>>>>>>>>>>>>>>>>>>>>>>__ 0.75\n",
            "6___<class 'sklearn.linear_model._stochastic_gradient.SGDClassifier'>>>>>>>>>>>>>>>>>>>>>>>>>>>>>>>>>>>>__ 0.125\n",
            "7___<class 'sklearn.svm._classes.LinearSVC'>>>>>>>>>>>>>>>>>>>>>>>>>>>>>>>>>>>>>>>>>>>>>>>>>>>>>>>>>>>>>__ 0.375\n",
            "8___<class 'sklearn.svm._classes.NuSVC'>>>>>>>>>>>>>>>>>>>>>>>>>>>>>>>>>>>>>>>>>>>>>>>>>>>>>>>>>>>>>>>>>__ 0.0\n",
            "9___<class 'sklearn.svm._classes.SVC'>>>>>>>>>>>>>>>>>>>>>>>>>>>>>>>>>>>>>>>>>>>>>>>>>>>>>>>>>>>>>>>>>>>__ 0.125\n",
            "10___<class 'sklearn.tree._classes.DecisionTreeClassifier'>>>>>>>>>>>>>>>>>>>>>>>>>>>>>>>>>>>>>>>>>>>>>>>__ 0.125\n",
            "11___<class 'sklearn.tree._classes.ExtraTreeClassifier'>>>>>>>>>>>>>>>>>>>>>>>>>>>>>>>>>>>>>>>>>>>>>>>>>>__ 0.25\n",
            "12___<class 'sklearn.ensemble._weight_boosting.AdaBoostClassifier'>>>>>>>>>>>>>>>>>>>>>>>>>>>>>>>>>>>>>>>__ 0.375\n",
            "13___<class 'sklearn.ensemble._bagging.BaggingClassifier'>>>>>>>>>>>>>>>>>>>>>>>>>>>>>>>>>>>>>>>>>>>>>>>>__ 0.125\n"
          ],
          "name": "stdout"
        },
        {
          "output_type": "stream",
          "text": [
            "/usr/local/lib/python3.7/dist-packages/sklearn/svm/_base.py:947: ConvergenceWarning: Liblinear failed to converge, increase the number of iterations.\n",
            "  \"the number of iterations.\", ConvergenceWarning)\n"
          ],
          "name": "stderr"
        },
        {
          "output_type": "stream",
          "text": [
            "14___<class 'sklearn.ensemble._forest.ExtraTreesClassifier'>>>>>>>>>>>>>>>>>>>>>>>>>>>>>>>>>>>>>>>>>>>>>>__ 0.25\n",
            "15___<class 'sklearn.ensemble._gb.GradientBoostingClassifier'>>>>>>>>>>>>>>>>>>>>>>>>>>>>>>>>>>>>>>>>>>>>__ 0.25\n",
            "16___<class 'sklearn.ensemble._forest.RandomForestClassifier'>>>>>>>>>>>>>>>>>>>>>>>>>>>>>>>>>>>>>>>>>>>>__ 0.25\n",
            "Error in model.fit >>> No neighbors found for test samples array([0, 1, 2, 3, 4, 5, 6]), you can try using larger radius, giving a label for outliers, or considering removing them from your dataset.\n",
            "Error in model.predict >>> No neighbors found for test samples array([0, 1, 2, 3, 4, 5, 6, 7]), you can try using larger radius, giving a label for outliers, or considering removing them from your dataset.\n",
            "17___<class 'sklearn.ensemble._stacking.StackingClassifier'>>>>>>>>>>>>>>>>>>>>>>>>>>>>>>>>>>>>>>>>>>>>>>__ 0.25\n",
            "Error in model.predict >>> No neighbors found for test samples array([0, 1, 2, 3, 4, 5, 6, 7]), you can try using larger radius, giving a label for outliers, or considering removing them from your dataset.\n",
            "18___<class 'sklearn.ensemble._voting.VotingClassifier'>>>>>>>>>>>>>>>>>>>>>>>>>>>>>>>>>>>>>>>>>>>>>>>>>>__ 0.25\n",
            "\n",
            "\n",
            "*************\n",
            "\n",
            "\n",
            "1___<class 'sklearn.neighbors._classification.KNeighborsClassifier'>>>>>>>>>>>>>>>>>>>>>>>>>>>>>>>>>>>>>__ 0.3\n",
            "Error in model.predict >>> No neighbors found for test samples array([ 0,  1,  2,  3,  4,  5,  6,  7,  8,  9, 10, 11, 12, 13, 14, 15, 16,\n",
            "       17, 18, 19, 20, 21, 22, 23, 24, 25, 26, 27, 28, 29, 30, 31, 32, 33,\n",
            "       34, 35, 36, 37, 38, 39]), you can try using larger radius, giving a label for outliers, or considering removing them from your dataset.\n",
            "2___<class 'sklearn.neighbors._classification.RadiusNeighborsClassifier'>>>>>>>>>>>>>>>>>>>>>>>>>>>>>>>>__ 0.3\n",
            "3___<class 'sklearn.linear_model._passive_aggressive.PassiveAggressiveClassifier'>>>>>>>>>>>>>>>>>>>>>>>__ 0.25\n",
            "4___<class 'sklearn.linear_model._ridge.RidgeClassifier'>>>>>>>>>>>>>>>>>>>>>>>>>>>>>>>>>>>>>>>>>>>>>>>>__ 0.15\n",
            "5___<class 'sklearn.linear_model._ridge.RidgeClassifierCV'>>>>>>>>>>>>>>>>>>>>>>>>>>>>>>>>>>>>>>>>>>>>>>__ 0.15\n",
            "6___<class 'sklearn.linear_model._stochastic_gradient.SGDClassifier'>>>>>>>>>>>>>>>>>>>>>>>>>>>>>>>>>>>>__ 0.25\n",
            "7___<class 'sklearn.svm._classes.LinearSVC'>>>>>>>>>>>>>>>>>>>>>>>>>>>>>>>>>>>>>>>>>>>>>>>>>>>>>>>>>>>>>__ 0.325\n",
            "8___<class 'sklearn.svm._classes.NuSVC'>>>>>>>>>>>>>>>>>>>>>>>>>>>>>>>>>>>>>>>>>>>>>>>>>>>>>>>>>>>>>>>>>__ 0.35\n",
            "9___<class 'sklearn.svm._classes.SVC'>>>>>>>>>>>>>>>>>>>>>>>>>>>>>>>>>>>>>>>>>>>>>>>>>>>>>>>>>>>>>>>>>>>__ 0.325\n",
            "10___<class 'sklearn.tree._classes.DecisionTreeClassifier'>>>>>>>>>>>>>>>>>>>>>>>>>>>>>>>>>>>>>>>>>>>>>>>__ 0.3\n",
            "11___<class 'sklearn.tree._classes.ExtraTreeClassifier'>>>>>>>>>>>>>>>>>>>>>>>>>>>>>>>>>>>>>>>>>>>>>>>>>>__ 0.325\n",
            "12___<class 'sklearn.ensemble._weight_boosting.AdaBoostClassifier'>>>>>>>>>>>>>>>>>>>>>>>>>>>>>>>>>>>>>>>__ 0.2\n"
          ],
          "name": "stdout"
        },
        {
          "output_type": "stream",
          "text": [
            "/usr/local/lib/python3.7/dist-packages/sklearn/svm/_base.py:947: ConvergenceWarning: Liblinear failed to converge, increase the number of iterations.\n",
            "  \"the number of iterations.\", ConvergenceWarning)\n"
          ],
          "name": "stderr"
        },
        {
          "output_type": "stream",
          "text": [
            "13___<class 'sklearn.ensemble._bagging.BaggingClassifier'>>>>>>>>>>>>>>>>>>>>>>>>>>>>>>>>>>>>>>>>>>>>>>>>__ 0.375\n",
            "14___<class 'sklearn.ensemble._forest.ExtraTreesClassifier'>>>>>>>>>>>>>>>>>>>>>>>>>>>>>>>>>>>>>>>>>>>>>>__ 0.325\n",
            "15___<class 'sklearn.ensemble._gb.GradientBoostingClassifier'>>>>>>>>>>>>>>>>>>>>>>>>>>>>>>>>>>>>>>>>>>>>__ 0.375\n",
            "16___<class 'sklearn.ensemble._forest.RandomForestClassifier'>>>>>>>>>>>>>>>>>>>>>>>>>>>>>>>>>>>>>>>>>>>>__ 0.35\n",
            "Error in model.fit >>> No neighbors found for test samples array([0, 1, 2, 3, 4, 5, 6, 7]), you can try using larger radius, giving a label for outliers, or considering removing them from your dataset.\n",
            "Error in model.predict >>> No neighbors found for test samples array([ 0,  1,  2,  3,  4,  5,  6,  7,  8,  9, 10, 11, 12, 13, 14, 15, 16,\n",
            "       17, 18, 19, 20, 21, 22, 23, 24, 25, 26, 27, 28, 29, 30, 31, 32, 33,\n",
            "       34, 35, 36, 37, 38, 39]), you can try using larger radius, giving a label for outliers, or considering removing them from your dataset.\n",
            "17___<class 'sklearn.ensemble._stacking.StackingClassifier'>>>>>>>>>>>>>>>>>>>>>>>>>>>>>>>>>>>>>>>>>>>>>>__ 0.35\n",
            "Error in model.predict >>> No neighbors found for test samples array([ 0,  1,  2,  3,  4,  5,  6,  7,  8,  9, 10, 11, 12, 13, 14, 15, 16,\n",
            "       17, 18, 19, 20, 21, 22, 23, 24, 25, 26, 27, 28, 29, 30, 31, 32, 33,\n",
            "       34, 35, 36, 37, 38, 39]), you can try using larger radius, giving a label for outliers, or considering removing them from your dataset.\n",
            "18___<class 'sklearn.ensemble._voting.VotingClassifier'>>>>>>>>>>>>>>>>>>>>>>>>>>>>>>>>>>>>>>>>>>>>>>>>>>__ 0.35\n",
            "\n",
            "\n",
            "*************\n",
            "\n",
            "\n",
            "1___<class 'sklearn.neighbors._classification.KNeighborsClassifier'>>>>>>>>>>>>>>>>>>>>>>>>>>>>>>>>>>>>>__ 0.25\n",
            "Error in model.predict >>> No neighbors found for test samples array([ 0,  1,  2,  3,  4,  5,  6,  7,  8,  9, 10, 11, 12, 13, 14, 15]), you can try using larger radius, giving a label for outliers, or considering removing them from your dataset.\n",
            "2___<class 'sklearn.neighbors._classification.RadiusNeighborsClassifier'>>>>>>>>>>>>>>>>>>>>>>>>>>>>>>>>__ 0.25\n",
            "3___<class 'sklearn.linear_model._passive_aggressive.PassiveAggressiveClassifier'>>>>>>>>>>>>>>>>>>>>>>>__ 0.3125\n",
            "4___<class 'sklearn.linear_model._ridge.RidgeClassifier'>>>>>>>>>>>>>>>>>>>>>>>>>>>>>>>>>>>>>>>>>>>>>>>>__ 0.3125\n",
            "5___<class 'sklearn.linear_model._ridge.RidgeClassifierCV'>>>>>>>>>>>>>>>>>>>>>>>>>>>>>>>>>>>>>>>>>>>>>>__ 0.3125\n",
            "6___<class 'sklearn.linear_model._stochastic_gradient.SGDClassifier'>>>>>>>>>>>>>>>>>>>>>>>>>>>>>>>>>>>>__ 0.25\n",
            "7___<class 'sklearn.svm._classes.LinearSVC'>>>>>>>>>>>>>>>>>>>>>>>>>>>>>>>>>>>>>>>>>>>>>>>>>>>>>>>>>>>>>__ 0.3125\n",
            "8___<class 'sklearn.svm._classes.NuSVC'>>>>>>>>>>>>>>>>>>>>>>>>>>>>>>>>>>>>>>>>>>>>>>>>>>>>>>>>>>>>>>>>>__ 0.3125\n",
            "9___<class 'sklearn.svm._classes.SVC'>>>>>>>>>>>>>>>>>>>>>>>>>>>>>>>>>>>>>>>>>>>>>>>>>>>>>>>>>>>>>>>>>>>__ 0.25\n",
            "10___<class 'sklearn.tree._classes.DecisionTreeClassifier'>>>>>>>>>>>>>>>>>>>>>>>>>>>>>>>>>>>>>>>>>>>>>>>__ 0.5625\n",
            "11___<class 'sklearn.tree._classes.ExtraTreeClassifier'>>>>>>>>>>>>>>>>>>>>>>>>>>>>>>>>>>>>>>>>>>>>>>>>>>__ 0.3125\n",
            "12___<class 'sklearn.ensemble._weight_boosting.AdaBoostClassifier'>>>>>>>>>>>>>>>>>>>>>>>>>>>>>>>>>>>>>>>__ 0.25\n"
          ],
          "name": "stdout"
        },
        {
          "output_type": "stream",
          "text": [
            "/usr/local/lib/python3.7/dist-packages/sklearn/svm/_base.py:947: ConvergenceWarning: Liblinear failed to converge, increase the number of iterations.\n",
            "  \"the number of iterations.\", ConvergenceWarning)\n"
          ],
          "name": "stderr"
        },
        {
          "output_type": "stream",
          "text": [
            "13___<class 'sklearn.ensemble._bagging.BaggingClassifier'>>>>>>>>>>>>>>>>>>>>>>>>>>>>>>>>>>>>>>>>>>>>>>>>__ 0.3125\n",
            "14___<class 'sklearn.ensemble._forest.ExtraTreesClassifier'>>>>>>>>>>>>>>>>>>>>>>>>>>>>>>>>>>>>>>>>>>>>>>__ 0.625\n",
            "15___<class 'sklearn.ensemble._gb.GradientBoostingClassifier'>>>>>>>>>>>>>>>>>>>>>>>>>>>>>>>>>>>>>>>>>>>>__ 0.5\n",
            "16___<class 'sklearn.ensemble._forest.RandomForestClassifier'>>>>>>>>>>>>>>>>>>>>>>>>>>>>>>>>>>>>>>>>>>>>__ 0.4375\n",
            "Error in model.fit >>> No neighbors found for test samples array([ 0,  1,  2,  3,  4,  5,  6,  7,  8,  9, 10, 11, 12]), you can try using larger radius, giving a label for outliers, or considering removing them from your dataset.\n",
            "Error in model.predict >>> No neighbors found for test samples array([ 0,  1,  2,  3,  4,  5,  6,  7,  8,  9, 10, 11, 12, 13, 14, 15]), you can try using larger radius, giving a label for outliers, or considering removing them from your dataset.\n",
            "17___<class 'sklearn.ensemble._stacking.StackingClassifier'>>>>>>>>>>>>>>>>>>>>>>>>>>>>>>>>>>>>>>>>>>>>>>__ 0.4375\n",
            "Error in model.predict >>> No neighbors found for test samples array([ 0,  1,  2,  3,  4,  5,  6,  7,  8,  9, 10, 11, 12, 13, 14, 15]), you can try using larger radius, giving a label for outliers, or considering removing them from your dataset.\n",
            "18___<class 'sklearn.ensemble._voting.VotingClassifier'>>>>>>>>>>>>>>>>>>>>>>>>>>>>>>>>>>>>>>>>>>>>>>>>>>__ 0.4375\n"
          ],
          "name": "stdout"
        }
      ]
    },
    {
      "cell_type": "code",
      "metadata": {
        "colab": {
          "base_uri": "https://localhost:8080/"
        },
        "id": "SBLVgEQPhzbY",
        "outputId": "40d0bcf9-119d-43f5-810f-96e23d1bde03"
      },
      "source": [
        "for mode in [0,1,2,3]:\n",
        "    print('\\n\\n*************\\n\\n')\n",
        "\n",
        "    X_train, X_test, y_train, y_test = give_train_test(X1, y1, X2, y2, mode)\n",
        "    # TRAINING ALL THE MODELS\n",
        "\n",
        "    from sklearn.metrics import accuracy_score\n",
        "    import matplotlib.pyplot as plt\n",
        "\n",
        "    i=0\n",
        "    importances=[]\n",
        "    for model in models:\n",
        "        i+=1\n",
        "        try:\n",
        "            model.fit(X_train,y_train)\n",
        "        except Exception as e: print('Error in model.fit >>>',e)\n",
        "        try:\n",
        "            pred=model.predict(X_test)\n",
        "        except Exception as e: print('Error in model.predict >>>',e)\n",
        "        print(str(i)+'___'+str(model.__class__)+(100-len(str(model.__class__)))*'>'+'__',accuracy_score(y_test,pred))\n",
        "        try:\n",
        "            importances.append([i-1,model.feature_importances_])\n",
        "        except AttributeError:\n",
        "            pass"
      ],
      "execution_count": null,
      "outputs": [
        {
          "output_type": "stream",
          "text": [
            "\n",
            "\n",
            "*************\n",
            "\n",
            "\n",
            "1___<class 'sklearn.neighbors._classification.KNeighborsClassifier'>>>>>>>>>>>>>>>>>>>>>>>>>>>>>>>>>>>>>__ 0.3333333333333333\n",
            "Error in model.predict >>> No neighbors found for test samples array([ 0,  1,  2,  3,  4,  5,  6,  7,  8,  9, 10, 11]), you can try using larger radius, giving a label for outliers, or considering removing them from your dataset.\n",
            "2___<class 'sklearn.neighbors._classification.RadiusNeighborsClassifier'>>>>>>>>>>>>>>>>>>>>>>>>>>>>>>>>__ 0.3333333333333333\n",
            "3___<class 'sklearn.linear_model._passive_aggressive.PassiveAggressiveClassifier'>>>>>>>>>>>>>>>>>>>>>>>__ 0.5\n",
            "4___<class 'sklearn.linear_model._ridge.RidgeClassifier'>>>>>>>>>>>>>>>>>>>>>>>>>>>>>>>>>>>>>>>>>>>>>>>>__ 0.4166666666666667\n",
            "5___<class 'sklearn.linear_model._ridge.RidgeClassifierCV'>>>>>>>>>>>>>>>>>>>>>>>>>>>>>>>>>>>>>>>>>>>>>>__ 0.4166666666666667\n",
            "6___<class 'sklearn.linear_model._stochastic_gradient.SGDClassifier'>>>>>>>>>>>>>>>>>>>>>>>>>>>>>>>>>>>>__ 0.4166666666666667\n",
            "7___<class 'sklearn.svm._classes.LinearSVC'>>>>>>>>>>>>>>>>>>>>>>>>>>>>>>>>>>>>>>>>>>>>>>>>>>>>>>>>>>>>>__ 0.3333333333333333\n",
            "8___<class 'sklearn.svm._classes.NuSVC'>>>>>>>>>>>>>>>>>>>>>>>>>>>>>>>>>>>>>>>>>>>>>>>>>>>>>>>>>>>>>>>>>__ 0.5833333333333334\n",
            "9___<class 'sklearn.svm._classes.SVC'>>>>>>>>>>>>>>>>>>>>>>>>>>>>>>>>>>>>>>>>>>>>>>>>>>>>>>>>>>>>>>>>>>>__ 0.3333333333333333\n",
            "10___<class 'sklearn.tree._classes.DecisionTreeClassifier'>>>>>>>>>>>>>>>>>>>>>>>>>>>>>>>>>>>>>>>>>>>>>>>__ 0.3333333333333333\n",
            "11___<class 'sklearn.tree._classes.ExtraTreeClassifier'>>>>>>>>>>>>>>>>>>>>>>>>>>>>>>>>>>>>>>>>>>>>>>>>>>__ 0.4166666666666667\n",
            "12___<class 'sklearn.ensemble._weight_boosting.AdaBoostClassifier'>>>>>>>>>>>>>>>>>>>>>>>>>>>>>>>>>>>>>>>__ 0.25\n",
            "13___<class 'sklearn.ensemble._bagging.BaggingClassifier'>>>>>>>>>>>>>>>>>>>>>>>>>>>>>>>>>>>>>>>>>>>>>>>>__ 0.4166666666666667\n"
          ],
          "name": "stdout"
        },
        {
          "output_type": "stream",
          "text": [
            "/usr/local/lib/python3.7/dist-packages/sklearn/svm/_base.py:947: ConvergenceWarning: Liblinear failed to converge, increase the number of iterations.\n",
            "  \"the number of iterations.\", ConvergenceWarning)\n"
          ],
          "name": "stderr"
        },
        {
          "output_type": "stream",
          "text": [
            "14___<class 'sklearn.ensemble._forest.ExtraTreesClassifier'>>>>>>>>>>>>>>>>>>>>>>>>>>>>>>>>>>>>>>>>>>>>>>__ 0.5\n",
            "15___<class 'sklearn.ensemble._gb.GradientBoostingClassifier'>>>>>>>>>>>>>>>>>>>>>>>>>>>>>>>>>>>>>>>>>>>>__ 0.3333333333333333\n",
            "16___<class 'sklearn.ensemble._forest.RandomForestClassifier'>>>>>>>>>>>>>>>>>>>>>>>>>>>>>>>>>>>>>>>>>>>>__ 0.5\n",
            "Error in model.fit >>> No neighbors found for test samples array([0, 1, 2, 3, 4, 5]), you can try using larger radius, giving a label for outliers, or considering removing them from your dataset.\n",
            "Error in model.predict >>> No neighbors found for test samples array([ 0,  1,  2,  3,  4,  5,  6,  7,  8,  9, 10, 11]), you can try using larger radius, giving a label for outliers, or considering removing them from your dataset.\n",
            "17___<class 'sklearn.ensemble._stacking.StackingClassifier'>>>>>>>>>>>>>>>>>>>>>>>>>>>>>>>>>>>>>>>>>>>>>>__ 0.5\n",
            "Error in model.predict >>> No neighbors found for test samples array([ 0,  1,  2,  3,  4,  5,  6,  7,  8,  9, 10, 11]), you can try using larger radius, giving a label for outliers, or considering removing them from your dataset.\n",
            "18___<class 'sklearn.ensemble._voting.VotingClassifier'>>>>>>>>>>>>>>>>>>>>>>>>>>>>>>>>>>>>>>>>>>>>>>>>>>__ 0.5\n",
            "\n",
            "\n",
            "*************\n",
            "\n",
            "\n",
            "1___<class 'sklearn.neighbors._classification.KNeighborsClassifier'>>>>>>>>>>>>>>>>>>>>>>>>>>>>>>>>>>>>>__ 0.5833333333333334\n",
            "Error in model.predict >>> No neighbors found for test samples array([ 0,  1,  2,  3,  4,  5,  6,  7,  8,  9, 10, 11]), you can try using larger radius, giving a label for outliers, or considering removing them from your dataset.\n",
            "2___<class 'sklearn.neighbors._classification.RadiusNeighborsClassifier'>>>>>>>>>>>>>>>>>>>>>>>>>>>>>>>>__ 0.5833333333333334\n",
            "3___<class 'sklearn.linear_model._passive_aggressive.PassiveAggressiveClassifier'>>>>>>>>>>>>>>>>>>>>>>>__ 0.5\n",
            "4___<class 'sklearn.linear_model._ridge.RidgeClassifier'>>>>>>>>>>>>>>>>>>>>>>>>>>>>>>>>>>>>>>>>>>>>>>>>__ 0.4166666666666667\n",
            "5___<class 'sklearn.linear_model._ridge.RidgeClassifierCV'>>>>>>>>>>>>>>>>>>>>>>>>>>>>>>>>>>>>>>>>>>>>>>__ 0.4166666666666667\n",
            "6___<class 'sklearn.linear_model._stochastic_gradient.SGDClassifier'>>>>>>>>>>>>>>>>>>>>>>>>>>>>>>>>>>>>__ 0.25\n",
            "7___<class 'sklearn.svm._classes.LinearSVC'>>>>>>>>>>>>>>>>>>>>>>>>>>>>>>>>>>>>>>>>>>>>>>>>>>>>>>>>>>>>>__ 0.5\n",
            "8___<class 'sklearn.svm._classes.NuSVC'>>>>>>>>>>>>>>>>>>>>>>>>>>>>>>>>>>>>>>>>>>>>>>>>>>>>>>>>>>>>>>>>>__ 0.5\n",
            "9___<class 'sklearn.svm._classes.SVC'>>>>>>>>>>>>>>>>>>>>>>>>>>>>>>>>>>>>>>>>>>>>>>>>>>>>>>>>>>>>>>>>>>>__ 0.4166666666666667\n",
            "10___<class 'sklearn.tree._classes.DecisionTreeClassifier'>>>>>>>>>>>>>>>>>>>>>>>>>>>>>>>>>>>>>>>>>>>>>>>__ 0.5\n",
            "11___<class 'sklearn.tree._classes.ExtraTreeClassifier'>>>>>>>>>>>>>>>>>>>>>>>>>>>>>>>>>>>>>>>>>>>>>>>>>>__ 0.5\n",
            "12___<class 'sklearn.ensemble._weight_boosting.AdaBoostClassifier'>>>>>>>>>>>>>>>>>>>>>>>>>>>>>>>>>>>>>>>__ 0.3333333333333333\n",
            "13___<class 'sklearn.ensemble._bagging.BaggingClassifier'>>>>>>>>>>>>>>>>>>>>>>>>>>>>>>>>>>>>>>>>>>>>>>>>__ 0.6666666666666666\n"
          ],
          "name": "stdout"
        },
        {
          "output_type": "stream",
          "text": [
            "/usr/local/lib/python3.7/dist-packages/sklearn/svm/_base.py:947: ConvergenceWarning: Liblinear failed to converge, increase the number of iterations.\n",
            "  \"the number of iterations.\", ConvergenceWarning)\n"
          ],
          "name": "stderr"
        },
        {
          "output_type": "stream",
          "text": [
            "14___<class 'sklearn.ensemble._forest.ExtraTreesClassifier'>>>>>>>>>>>>>>>>>>>>>>>>>>>>>>>>>>>>>>>>>>>>>>__ 0.5\n",
            "15___<class 'sklearn.ensemble._gb.GradientBoostingClassifier'>>>>>>>>>>>>>>>>>>>>>>>>>>>>>>>>>>>>>>>>>>>>__ 0.4166666666666667\n",
            "16___<class 'sklearn.ensemble._forest.RandomForestClassifier'>>>>>>>>>>>>>>>>>>>>>>>>>>>>>>>>>>>>>>>>>>>>__ 0.5833333333333334\n",
            "Error in model.fit >>> No neighbors found for test samples array([0, 1, 2, 3, 4, 5]), you can try using larger radius, giving a label for outliers, or considering removing them from your dataset.\n",
            "Error in model.predict >>> No neighbors found for test samples array([ 0,  1,  2,  3,  4,  5,  6,  7,  8,  9, 10, 11]), you can try using larger radius, giving a label for outliers, or considering removing them from your dataset.\n",
            "17___<class 'sklearn.ensemble._stacking.StackingClassifier'>>>>>>>>>>>>>>>>>>>>>>>>>>>>>>>>>>>>>>>>>>>>>>__ 0.5833333333333334\n",
            "Error in model.predict >>> No neighbors found for test samples array([ 0,  1,  2,  3,  4,  5,  6,  7,  8,  9, 10, 11]), you can try using larger radius, giving a label for outliers, or considering removing them from your dataset.\n",
            "18___<class 'sklearn.ensemble._voting.VotingClassifier'>>>>>>>>>>>>>>>>>>>>>>>>>>>>>>>>>>>>>>>>>>>>>>>>>>__ 0.5833333333333334\n",
            "\n",
            "\n",
            "*************\n",
            "\n",
            "\n",
            "1___<class 'sklearn.neighbors._classification.KNeighborsClassifier'>>>>>>>>>>>>>>>>>>>>>>>>>>>>>>>>>>>>>__ 0.375\n",
            "Error in model.predict >>> No neighbors found for test samples array([ 0,  1,  2,  3,  4,  5,  6,  7,  8,  9, 10, 11, 12, 13, 14, 15, 16,\n",
            "       17, 18, 19, 20, 21, 22, 23, 24, 25, 26, 27, 28, 29, 30, 31, 32, 33,\n",
            "       34, 35, 36, 37, 38, 39]), you can try using larger radius, giving a label for outliers, or considering removing them from your dataset.\n",
            "2___<class 'sklearn.neighbors._classification.RadiusNeighborsClassifier'>>>>>>>>>>>>>>>>>>>>>>>>>>>>>>>>__ 0.375\n",
            "3___<class 'sklearn.linear_model._passive_aggressive.PassiveAggressiveClassifier'>>>>>>>>>>>>>>>>>>>>>>>__ 0.425\n",
            "4___<class 'sklearn.linear_model._ridge.RidgeClassifier'>>>>>>>>>>>>>>>>>>>>>>>>>>>>>>>>>>>>>>>>>>>>>>>>__ 0.5\n",
            "5___<class 'sklearn.linear_model._ridge.RidgeClassifierCV'>>>>>>>>>>>>>>>>>>>>>>>>>>>>>>>>>>>>>>>>>>>>>>__ 0.5\n",
            "6___<class 'sklearn.linear_model._stochastic_gradient.SGDClassifier'>>>>>>>>>>>>>>>>>>>>>>>>>>>>>>>>>>>>__ 0.375\n",
            "7___<class 'sklearn.svm._classes.LinearSVC'>>>>>>>>>>>>>>>>>>>>>>>>>>>>>>>>>>>>>>>>>>>>>>>>>>>>>>>>>>>>>__ 0.425\n",
            "8___<class 'sklearn.svm._classes.NuSVC'>>>>>>>>>>>>>>>>>>>>>>>>>>>>>>>>>>>>>>>>>>>>>>>>>>>>>>>>>>>>>>>>>__ 0.5\n",
            "9___<class 'sklearn.svm._classes.SVC'>>>>>>>>>>>>>>>>>>>>>>>>>>>>>>>>>>>>>>>>>>>>>>>>>>>>>>>>>>>>>>>>>>>__ 0.5\n",
            "10___<class 'sklearn.tree._classes.DecisionTreeClassifier'>>>>>>>>>>>>>>>>>>>>>>>>>>>>>>>>>>>>>>>>>>>>>>>__ 0.325\n",
            "11___<class 'sklearn.tree._classes.ExtraTreeClassifier'>>>>>>>>>>>>>>>>>>>>>>>>>>>>>>>>>>>>>>>>>>>>>>>>>>__ 0.4\n",
            "12___<class 'sklearn.ensemble._weight_boosting.AdaBoostClassifier'>>>>>>>>>>>>>>>>>>>>>>>>>>>>>>>>>>>>>>>__ 0.4\n",
            "13___<class 'sklearn.ensemble._bagging.BaggingClassifier'>>>>>>>>>>>>>>>>>>>>>>>>>>>>>>>>>>>>>>>>>>>>>>>>__ 0.325\n"
          ],
          "name": "stdout"
        },
        {
          "output_type": "stream",
          "text": [
            "/usr/local/lib/python3.7/dist-packages/sklearn/svm/_base.py:947: ConvergenceWarning: Liblinear failed to converge, increase the number of iterations.\n",
            "  \"the number of iterations.\", ConvergenceWarning)\n"
          ],
          "name": "stderr"
        },
        {
          "output_type": "stream",
          "text": [
            "14___<class 'sklearn.ensemble._forest.ExtraTreesClassifier'>>>>>>>>>>>>>>>>>>>>>>>>>>>>>>>>>>>>>>>>>>>>>>__ 0.5\n",
            "15___<class 'sklearn.ensemble._gb.GradientBoostingClassifier'>>>>>>>>>>>>>>>>>>>>>>>>>>>>>>>>>>>>>>>>>>>>__ 0.425\n",
            "16___<class 'sklearn.ensemble._forest.RandomForestClassifier'>>>>>>>>>>>>>>>>>>>>>>>>>>>>>>>>>>>>>>>>>>>>__ 0.5\n",
            "Error in model.fit >>> No neighbors found for test samples array([0, 1, 2, 3, 4, 5, 6, 7]), you can try using larger radius, giving a label for outliers, or considering removing them from your dataset.\n",
            "Error in model.predict >>> No neighbors found for test samples array([ 0,  1,  2,  3,  4,  5,  6,  7,  8,  9, 10, 11, 12, 13, 14, 15, 16,\n",
            "       17, 18, 19, 20, 21, 22, 23, 24, 25, 26, 27, 28, 29, 30, 31, 32, 33,\n",
            "       34, 35, 36, 37, 38, 39]), you can try using larger radius, giving a label for outliers, or considering removing them from your dataset.\n",
            "17___<class 'sklearn.ensemble._stacking.StackingClassifier'>>>>>>>>>>>>>>>>>>>>>>>>>>>>>>>>>>>>>>>>>>>>>>__ 0.5\n",
            "Error in model.predict >>> No neighbors found for test samples array([ 0,  1,  2,  3,  4,  5,  6,  7,  8,  9, 10, 11, 12, 13, 14, 15, 16,\n",
            "       17, 18, 19, 20, 21, 22, 23, 24, 25, 26, 27, 28, 29, 30, 31, 32, 33,\n",
            "       34, 35, 36, 37, 38, 39]), you can try using larger radius, giving a label for outliers, or considering removing them from your dataset.\n",
            "18___<class 'sklearn.ensemble._voting.VotingClassifier'>>>>>>>>>>>>>>>>>>>>>>>>>>>>>>>>>>>>>>>>>>>>>>>>>>__ 0.5\n",
            "\n",
            "\n",
            "*************\n",
            "\n",
            "\n",
            "1___<class 'sklearn.neighbors._classification.KNeighborsClassifier'>>>>>>>>>>>>>>>>>>>>>>>>>>>>>>>>>>>>>__ 0.375\n",
            "Error in model.predict >>> No neighbors found for test samples array([ 0,  1,  2,  3,  4,  5,  6,  7,  8,  9, 10, 11, 12, 13, 14, 15, 16,\n",
            "       17, 18, 19, 20, 21, 22, 23]), you can try using larger radius, giving a label for outliers, or considering removing them from your dataset.\n",
            "2___<class 'sklearn.neighbors._classification.RadiusNeighborsClassifier'>>>>>>>>>>>>>>>>>>>>>>>>>>>>>>>>__ 0.375\n",
            "3___<class 'sklearn.linear_model._passive_aggressive.PassiveAggressiveClassifier'>>>>>>>>>>>>>>>>>>>>>>>__ 0.5\n",
            "4___<class 'sklearn.linear_model._ridge.RidgeClassifier'>>>>>>>>>>>>>>>>>>>>>>>>>>>>>>>>>>>>>>>>>>>>>>>>__ 0.6666666666666666\n",
            "5___<class 'sklearn.linear_model._ridge.RidgeClassifierCV'>>>>>>>>>>>>>>>>>>>>>>>>>>>>>>>>>>>>>>>>>>>>>>__ 0.6666666666666666\n",
            "6___<class 'sklearn.linear_model._stochastic_gradient.SGDClassifier'>>>>>>>>>>>>>>>>>>>>>>>>>>>>>>>>>>>>__ 0.2916666666666667\n",
            "7___<class 'sklearn.svm._classes.LinearSVC'>>>>>>>>>>>>>>>>>>>>>>>>>>>>>>>>>>>>>>>>>>>>>>>>>>>>>>>>>>>>>__ 0.5\n",
            "8___<class 'sklearn.svm._classes.NuSVC'>>>>>>>>>>>>>>>>>>>>>>>>>>>>>>>>>>>>>>>>>>>>>>>>>>>>>>>>>>>>>>>>>__ 0.4166666666666667\n",
            "9___<class 'sklearn.svm._classes.SVC'>>>>>>>>>>>>>>>>>>>>>>>>>>>>>>>>>>>>>>>>>>>>>>>>>>>>>>>>>>>>>>>>>>>__ 0.25\n",
            "10___<class 'sklearn.tree._classes.DecisionTreeClassifier'>>>>>>>>>>>>>>>>>>>>>>>>>>>>>>>>>>>>>>>>>>>>>>>__ 0.4166666666666667\n",
            "11___<class 'sklearn.tree._classes.ExtraTreeClassifier'>>>>>>>>>>>>>>>>>>>>>>>>>>>>>>>>>>>>>>>>>>>>>>>>>>__ 0.3333333333333333\n",
            "12___<class 'sklearn.ensemble._weight_boosting.AdaBoostClassifier'>>>>>>>>>>>>>>>>>>>>>>>>>>>>>>>>>>>>>>>__ 0.4166666666666667\n",
            "13___<class 'sklearn.ensemble._bagging.BaggingClassifier'>>>>>>>>>>>>>>>>>>>>>>>>>>>>>>>>>>>>>>>>>>>>>>>>__ 0.4583333333333333\n"
          ],
          "name": "stdout"
        },
        {
          "output_type": "stream",
          "text": [
            "/usr/local/lib/python3.7/dist-packages/sklearn/svm/_base.py:947: ConvergenceWarning: Liblinear failed to converge, increase the number of iterations.\n",
            "  \"the number of iterations.\", ConvergenceWarning)\n"
          ],
          "name": "stderr"
        },
        {
          "output_type": "stream",
          "text": [
            "14___<class 'sklearn.ensemble._forest.ExtraTreesClassifier'>>>>>>>>>>>>>>>>>>>>>>>>>>>>>>>>>>>>>>>>>>>>>>__ 0.4583333333333333\n",
            "15___<class 'sklearn.ensemble._gb.GradientBoostingClassifier'>>>>>>>>>>>>>>>>>>>>>>>>>>>>>>>>>>>>>>>>>>>>__ 0.5416666666666666\n",
            "16___<class 'sklearn.ensemble._forest.RandomForestClassifier'>>>>>>>>>>>>>>>>>>>>>>>>>>>>>>>>>>>>>>>>>>>>__ 0.5\n",
            "Error in model.fit >>> No neighbors found for test samples array([ 0,  1,  2,  3,  4,  5,  6,  7,  8,  9, 10, 11]), you can try using larger radius, giving a label for outliers, or considering removing them from your dataset.\n",
            "Error in model.predict >>> No neighbors found for test samples array([ 0,  1,  2,  3,  4,  5,  6,  7,  8,  9, 10, 11, 12, 13, 14, 15, 16,\n",
            "       17, 18, 19, 20, 21, 22, 23]), you can try using larger radius, giving a label for outliers, or considering removing them from your dataset.\n",
            "17___<class 'sklearn.ensemble._stacking.StackingClassifier'>>>>>>>>>>>>>>>>>>>>>>>>>>>>>>>>>>>>>>>>>>>>>>__ 0.5\n",
            "Error in model.predict >>> No neighbors found for test samples array([ 0,  1,  2,  3,  4,  5,  6,  7,  8,  9, 10, 11, 12, 13, 14, 15, 16,\n",
            "       17, 18, 19, 20, 21, 22, 23]), you can try using larger radius, giving a label for outliers, or considering removing them from your dataset.\n",
            "18___<class 'sklearn.ensemble._voting.VotingClassifier'>>>>>>>>>>>>>>>>>>>>>>>>>>>>>>>>>>>>>>>>>>>>>>>>>>__ 0.5\n"
          ],
          "name": "stdout"
        }
      ]
    },
    {
      "cell_type": "code",
      "metadata": {
        "colab": {
          "base_uri": "https://localhost:8080/"
        },
        "id": "Zx58sq6J5qzO",
        "outputId": "ee6d87e7-4a3f-4ca1-bb27-34166114edab"
      },
      "source": [
        "# TRAINING ALL THE MODELS\n",
        "\n",
        "from sklearn.metrics import accuracy_score\n",
        "import matplotlib.pyplot as plt\n",
        "\n",
        "i=0\n",
        "importances=[]\n",
        "for model in models:\n",
        "  i+=1\n",
        "  try:\n",
        "    model.fit(X_train,y_train)\n",
        "  except Exception as e: print('Error in model.fit >>>',e)\n",
        "  try:\n",
        "    pred=model.predict(X_test)\n",
        "  except Exception as e: print('Error in model.predict >>>',e)\n",
        "  print(str(i)+'___'+str(model.__class__)+(100-len(str(model.__class__)))*'>'+'__',accuracy_score(y_test,pred))\n",
        "  try:\n",
        "    importances.append([i-1,model.feature_importances_])\n",
        "  except AttributeError:\n",
        "    pass"
      ],
      "execution_count": null,
      "outputs": [
        {
          "output_type": "stream",
          "text": [
            "1___<class 'sklearn.neighbors._classification.KNeighborsClassifier'>>>>>>>>>>>>>>>>>>>>>>>>>>>>>>>>>>>>>__ 0.16666666666666666\n",
            "Error in model.predict >>> No neighbors found for test samples array([ 0,  1,  2,  3,  4,  5,  6,  7,  8,  9, 10, 11]), you can try using larger radius, giving a label for outliers, or considering removing them from your dataset.\n",
            "2___<class 'sklearn.neighbors._classification.RadiusNeighborsClassifier'>>>>>>>>>>>>>>>>>>>>>>>>>>>>>>>>__ 0.16666666666666666\n",
            "3___<class 'sklearn.linear_model._passive_aggressive.PassiveAggressiveClassifier'>>>>>>>>>>>>>>>>>>>>>>>__ 0.4166666666666667\n",
            "4___<class 'sklearn.linear_model._ridge.RidgeClassifier'>>>>>>>>>>>>>>>>>>>>>>>>>>>>>>>>>>>>>>>>>>>>>>>>__ 0.3333333333333333\n",
            "5___<class 'sklearn.linear_model._ridge.RidgeClassifierCV'>>>>>>>>>>>>>>>>>>>>>>>>>>>>>>>>>>>>>>>>>>>>>>__ 0.3333333333333333\n",
            "6___<class 'sklearn.linear_model._stochastic_gradient.SGDClassifier'>>>>>>>>>>>>>>>>>>>>>>>>>>>>>>>>>>>>__ 0.3333333333333333\n",
            "7___<class 'sklearn.svm._classes.LinearSVC'>>>>>>>>>>>>>>>>>>>>>>>>>>>>>>>>>>>>>>>>>>>>>>>>>>>>>>>>>>>>>__ 0.3333333333333333\n",
            "8___<class 'sklearn.svm._classes.NuSVC'>>>>>>>>>>>>>>>>>>>>>>>>>>>>>>>>>>>>>>>>>>>>>>>>>>>>>>>>>>>>>>>>>__ 0.25\n",
            "9___<class 'sklearn.svm._classes.SVC'>>>>>>>>>>>>>>>>>>>>>>>>>>>>>>>>>>>>>>>>>>>>>>>>>>>>>>>>>>>>>>>>>>>__ 0.25\n",
            "10___<class 'sklearn.tree._classes.DecisionTreeClassifier'>>>>>>>>>>>>>>>>>>>>>>>>>>>>>>>>>>>>>>>>>>>>>>>__ 0.5833333333333334\n",
            "11___<class 'sklearn.tree._classes.ExtraTreeClassifier'>>>>>>>>>>>>>>>>>>>>>>>>>>>>>>>>>>>>>>>>>>>>>>>>>>__ 0.4166666666666667\n",
            "12___<class 'sklearn.ensemble._weight_boosting.AdaBoostClassifier'>>>>>>>>>>>>>>>>>>>>>>>>>>>>>>>>>>>>>>>__ 0.16666666666666666\n",
            "13___<class 'sklearn.ensemble._bagging.BaggingClassifier'>>>>>>>>>>>>>>>>>>>>>>>>>>>>>>>>>>>>>>>>>>>>>>>>__ 0.25\n"
          ],
          "name": "stdout"
        },
        {
          "output_type": "stream",
          "text": [
            "/usr/local/lib/python3.7/dist-packages/sklearn/svm/_base.py:947: ConvergenceWarning: Liblinear failed to converge, increase the number of iterations.\n",
            "  \"the number of iterations.\", ConvergenceWarning)\n"
          ],
          "name": "stderr"
        },
        {
          "output_type": "stream",
          "text": [
            "14___<class 'sklearn.ensemble._forest.ExtraTreesClassifier'>>>>>>>>>>>>>>>>>>>>>>>>>>>>>>>>>>>>>>>>>>>>>>__ 0.3333333333333333\n",
            "15___<class 'sklearn.ensemble._gb.GradientBoostingClassifier'>>>>>>>>>>>>>>>>>>>>>>>>>>>>>>>>>>>>>>>>>>>>__ 0.3333333333333333\n",
            "16___<class 'sklearn.ensemble._forest.RandomForestClassifier'>>>>>>>>>>>>>>>>>>>>>>>>>>>>>>>>>>>>>>>>>>>>__ 0.4166666666666667\n",
            "Error in model.fit >>> No neighbors found for test samples array([0, 1, 2, 3, 4, 5]), you can try using larger radius, giving a label for outliers, or considering removing them from your dataset.\n",
            "Error in model.predict >>> No neighbors found for test samples array([ 0,  1,  2,  3,  4,  5,  6,  7,  8,  9, 10, 11]), you can try using larger radius, giving a label for outliers, or considering removing them from your dataset.\n",
            "17___<class 'sklearn.ensemble._stacking.StackingClassifier'>>>>>>>>>>>>>>>>>>>>>>>>>>>>>>>>>>>>>>>>>>>>>>__ 0.4166666666666667\n",
            "Error in model.predict >>> No neighbors found for test samples array([ 0,  1,  2,  3,  4,  5,  6,  7,  8,  9, 10, 11]), you can try using larger radius, giving a label for outliers, or considering removing them from your dataset.\n",
            "18___<class 'sklearn.ensemble._voting.VotingClassifier'>>>>>>>>>>>>>>>>>>>>>>>>>>>>>>>>>>>>>>>>>>>>>>>>>>__ 0.4166666666666667\n"
          ],
          "name": "stdout"
        }
      ]
    },
    {
      "cell_type": "code",
      "metadata": {
        "colab": {
          "base_uri": "https://localhost:8080/",
          "height": 1000
        },
        "id": "OL_fXHIZ5uck",
        "outputId": "63e7e1ef-4d9b-4ce4-9a6e-05fa9326885f"
      },
      "source": [
        "###    Plotting feature importances\n",
        "\n",
        "for idx,importance in importances:\n",
        "  plt.figure()\n",
        "  plt.bar(range(len(importance)),importance)\n",
        "  plt.title(str(models[idx].__class__))"
      ],
      "execution_count": null,
      "outputs": [
        {
          "output_type": "display_data",
          "data": {
            "image/png": "[encoded data removed]",
            "text/plain": [
              "<Figure size 432x288 with 1 Axes>"
            ]
          },
          "metadata": {
            "tags": [],
            "needs_background": "light"
          }
        },
        {
          "output_type": "display_data",
          "data": {
            "image/png": "[encoded data removed]",
            "text/plain": [
              "<Figure size 432x288 with 1 Axes>"
            ]
          },
          "metadata": {
            "tags": [],
            "needs_background": "light"
          }
        },
        {
          "output_type": "display_data",
          "data": {
            "image/png": "[encoded data removed]",
            "text/plain": [
              "<Figure size 432x288 with 1 Axes>"
            ]
          },
          "metadata": {
            "tags": [],
            "needs_background": "light"
          }
        },
        {
          "output_type": "display_data",
          "data": {
            "image/png": "[encoded data removed]",
            "text/plain": [
              "<Figure size 432x288 with 1 Axes>"
            ]
          },
          "metadata": {
            "tags": [],
            "needs_background": "light"
          }
        },
        {
          "output_type": "display_data",
          "data": {
            "image/png": "[encoded data removed]",
            "text/plain": [
              "<Figure size 432x288 with 1 Axes>"
            ]
          },
          "metadata": {
            "tags": [],
            "needs_background": "light"
          }
        },
        {
          "output_type": "display_data",
          "data": {
            "image/png": "[encoded data removed]",
            "text/plain": [
              "<Figure size 432x288 with 1 Axes>"
            ]
          },
          "metadata": {
            "tags": [],
            "needs_background": "light"
          }
        }
      ]
    },
    {
      "cell_type": "code",
      "metadata": {
        "colab": {
          "base_uri": "https://localhost:8080/",
          "height": 281
        },
        "id": "AKzpFwn26aK2",
        "outputId": "9a3963ea-a8fe-4bca-f6c3-cd6d1c0c845c"
      },
      "source": [
        "#### TUNNING A SELECTED MODEL\n",
        "\n",
        "final_model=ExtraTreesClassifier()\n",
        "final_model.fit(X_train[:,:], y_train)\n",
        "importance=final_model.feature_importances_\n",
        "plt.bar(range(len(importance)),importance)\n",
        "pred=final_model.predict(X_test)\n",
        "print('final >>>>   ',str(final_model.__class__)+(100-len(str(final_model.__class__)))*'>'+'       ',accuracy_score(y_test,pred))"
      ],
      "execution_count": null,
      "outputs": [
        {
          "output_type": "stream",
          "text": [
            "final >>>>    <class 'sklearn.ensemble._forest.ExtraTreesClassifier'>>>>>>>>>>>>>>>>>>>>>>>>>>>>>>>>>>>>>>>>>>>>>>        0.5\n"
          ],
          "name": "stdout"
        },
        {
          "output_type": "display_data",
          "data": {
            "image/png": "[encoded data removed]",
            "text/plain": [
              "<Figure size 432x288 with 1 Axes>"
            ]
          },
          "metadata": {
            "tags": [],
            "needs_background": "light"
          }
        }
      ]
    },
    {
      "cell_type": "code",
      "metadata": {
        "colab": {
          "base_uri": "https://localhost:8080/"
        },
        "id": "wgBWcpYw6oL_",
        "outputId": "df088373-a0e2-467f-fe7d-a584b57a6e96"
      },
      "source": [
        "#### TUNNING A SELECTED MODEL\n",
        "\n",
        "for idx in range(0, 32, 4):\n",
        "    final_model=NuSVC() #ExtraTreesClassifier()\n",
        "    final_model.fit(X_train[:, idx: idx+4], y_train)\n",
        "    pred=final_model.predict(X_test[:, idx: idx+4])\n",
        "    print('final >>>>   ',str(final_model.__class__)+(100-len(str(final_model.__class__)))*'>'+'       ',accuracy_score(y_test,pred))"
      ],
      "execution_count": null,
      "outputs": [
        {
          "output_type": "stream",
          "text": [
            "final >>>>    <class 'sklearn.svm._classes.NuSVC'>>>>>>>>>>>>>>>>>>>>>>>>>>>>>>>>>>>>>>>>>>>>>>>>>>>>>>>>>>>>>>>>>        0.4166666666666667\n",
            "final >>>>    <class 'sklearn.svm._classes.NuSVC'>>>>>>>>>>>>>>>>>>>>>>>>>>>>>>>>>>>>>>>>>>>>>>>>>>>>>>>>>>>>>>>>>        0.4166666666666667\n",
            "final >>>>    <class 'sklearn.svm._classes.NuSVC'>>>>>>>>>>>>>>>>>>>>>>>>>>>>>>>>>>>>>>>>>>>>>>>>>>>>>>>>>>>>>>>>>        0.4166666666666667\n",
            "final >>>>    <class 'sklearn.svm._classes.NuSVC'>>>>>>>>>>>>>>>>>>>>>>>>>>>>>>>>>>>>>>>>>>>>>>>>>>>>>>>>>>>>>>>>>        0.25\n",
            "final >>>>    <class 'sklearn.svm._classes.NuSVC'>>>>>>>>>>>>>>>>>>>>>>>>>>>>>>>>>>>>>>>>>>>>>>>>>>>>>>>>>>>>>>>>>        0.5\n",
            "final >>>>    <class 'sklearn.svm._classes.NuSVC'>>>>>>>>>>>>>>>>>>>>>>>>>>>>>>>>>>>>>>>>>>>>>>>>>>>>>>>>>>>>>>>>>        0.3333333333333333\n",
            "final >>>>    <class 'sklearn.svm._classes.NuSVC'>>>>>>>>>>>>>>>>>>>>>>>>>>>>>>>>>>>>>>>>>>>>>>>>>>>>>>>>>>>>>>>>>        0.4166666666666667\n",
            "final >>>>    <class 'sklearn.svm._classes.NuSVC'>>>>>>>>>>>>>>>>>>>>>>>>>>>>>>>>>>>>>>>>>>>>>>>>>>>>>>>>>>>>>>>>>        0.3333333333333333\n"
          ],
          "name": "stdout"
        }
      ]
    },
    {
      "cell_type": "code",
      "metadata": {
        "colab": {
          "base_uri": "https://localhost:8080/"
        },
        "id": "mh16CzYY7jF7",
        "outputId": "c906f04c-b057-4d42-ceb8-2a4240dbf1b5"
      },
      "source": [
        "X_train.shape"
      ],
      "execution_count": null,
      "outputs": [
        {
          "output_type": "execute_result",
          "data": {
            "text/plain": [
              "(28, 32)"
            ]
          },
          "metadata": {
            "tags": []
          },
          "execution_count": 21
        }
      ]
    },
    {
      "cell_type": "markdown",
      "metadata": {
        "id": "NjfVBXWC_64R"
      },
      "source": [
        "### Feature extraction method from WORKSHOP"
      ]
    },
    {
      "cell_type": "code",
      "metadata": {
        "id": "gcjI2tFr_8ii"
      },
      "source": [
        "\n",
        "import os\n",
        "import sys\n",
        "from tempfile import gettempdir\n",
        "from subprocess import call\n",
        "\n",
        "import matplotlib.pyplot as plt\n",
        "import numpy as np\n",
        "from sklearn import svm\n",
        "from scipy.signal import butter, lfilter, lfilter_zi\n",
        "\n",
        "NOTCH_B, NOTCH_A = butter(4, np.array([55, 65])/(256/2), btype='bandstop')\n",
        "\n",
        "def plot_multichannel(data, params=None): # 1 sample: with (59000, 8)\n",
        "    \"\"\"Create a plot to present multichannel data.\n",
        "\n",
        "    Args:\n",
        "        data (numpy.ndarray):  Multichannel Data [n_samples, n_channels]\n",
        "        params (dict): information about the data acquisition device\n",
        "\n",
        "    TODO Receive labels as arguments\n",
        "    \"\"\"\n",
        "    fig, ax = plt.subplots()\n",
        "\n",
        "    n_samples = data.shape[0]\n",
        "    n_channels = data.shape[1]\n",
        "\n",
        "    if params is not None:\n",
        "        fs = params['sampling frequency']\n",
        "        names = params['names of channels']\n",
        "    else:\n",
        "        fs = 1\n",
        "        names = [''] * n_channels\n",
        "\n",
        "    time_vec = np.arange(n_samples) / float(fs)\n",
        "\n",
        "    data = np.fliplr(data)\n",
        "    offset = 0\n",
        "    for i_channel in range(n_channels):\n",
        "        data_ac = data[:, i_channel] - np.mean(data[:, i_channel])\n",
        "        offset = offset + 2 * np.max(np.abs(data_ac))\n",
        "        ax.plot(time_vec, data_ac + offset, label=names[i_channel])\n",
        "\n",
        "    ax.set_xlabel('Time [s]')\n",
        "    ax.set_ylabel('Amplitude')\n",
        "    plt.legend()\n",
        "    plt.draw()\n",
        "\n",
        "def epoch(data, samples_epoch, samples_overlap=0):\n",
        "    \"\"\"Extract epochs from a time series.\n",
        "\n",
        "    Given a 2D array of the shape [n_samples, n_channels]\n",
        "    Creates a 3D array of the shape [wlength_samples, n_channels, n_epochs]\n",
        "\n",
        "    Args:\n",
        "        data (numpy.ndarray or list of lists): data [n_samples, n_channels]\n",
        "        samples_epoch (int): window length in samples\n",
        "        samples_overlap (int): Overlap between windows in samples\n",
        "\n",
        "    Returns:\n",
        "        (numpy.ndarray): epoched data of shape\n",
        "    \"\"\"\n",
        "\n",
        "    if isinstance(data, list):\n",
        "        data = np.array(data)\n",
        "\n",
        "    n_samples, n_channels = data.shape\n",
        "\n",
        "    samples_shift = samples_epoch - samples_overlap\n",
        "\n",
        "    n_epochs =  int(np.floor((n_samples - samples_epoch) / float(samples_shift)) + 1)\n",
        "\n",
        "    # Markers indicate where the epoch starts, and the epoch contains samples_epoch rows\n",
        "    markers = np.asarray(range(0, n_epochs + 1)) * samples_shift\n",
        "    markers = markers.astype(int)\n",
        "\n",
        "    # Divide data in epochs\n",
        "    epochs = np.zeros((samples_epoch, n_channels, n_epochs))\n",
        "\n",
        "    for i in range(0, n_epochs):\n",
        "        epochs[:, :, i] = data[markers[i]:markers[i] + samples_epoch, :]\n",
        "\n",
        "    return epochs\n",
        "\n",
        "def compute_feature_vector(eegdata, fs): #  # 1 sample: with (59000, 8)\n",
        "    \"\"\"Extract the features from the EEG.\n",
        "\n",
        "    Args:\n",
        "        eegdata (numpy.ndarray): array of dimension [number of samples,\n",
        "                number of channels]\n",
        "        fs (float): sampling frequency of eegdata\n",
        "\n",
        "    Returns:\n",
        "        (numpy.ndarray): feature matrix of shape [number of feature points,\n",
        "            number of different features]\n",
        "    \"\"\"\n",
        "    # 1. Compute the PSD\n",
        "    winSampleLength, nbCh = eegdata.shape\n",
        "\n",
        "    # Apply Hamming window\n",
        "    w = np.hamming(winSampleLength)\n",
        "    dataWinCentered = eegdata - np.mean(eegdata, axis=0)  # Remove offset\n",
        "    dataWinCenteredHam = (dataWinCentered.T*w).T\n",
        "\n",
        "    NFFT = nextpow2(winSampleLength)\n",
        "    Y = np.fft.fft(dataWinCenteredHam, n=NFFT, axis=0)/winSampleLength\n",
        "    PSD = 2*np.abs(Y[0:int(NFFT/2), :])\n",
        "    f = fs/2*np.linspace(0, 1, int(NFFT/2))\n",
        "\n",
        "    # SPECTRAL FEATURES\n",
        "    # Average of band powers\n",
        "    # Delta <4\n",
        "    ind_delta, = np.where(f < 4)\n",
        "    meanDelta = np.mean(PSD[ind_delta, :], axis=0)\n",
        "    # Theta 4-8\n",
        "    ind_theta, = np.where((f >= 4) & (f <= 8))\n",
        "    meanTheta = np.mean(PSD[ind_theta, :], axis=0)\n",
        "    # Alpha 8-12\n",
        "    ind_alpha, = np.where((f >= 8) & (f <= 12))\n",
        "    meanAlpha = np.mean(PSD[ind_alpha, :], axis=0)\n",
        "    # Beta 12-30\n",
        "    ind_beta, = np.where((f >= 12) & (f < 30))\n",
        "    meanBeta = np.mean(PSD[ind_beta, :], axis=0)\n",
        "\n",
        "    feature_vector = np.concatenate((meanDelta, meanTheta, meanAlpha,\n",
        "                                     meanBeta), axis=0)\n",
        "\n",
        "    feature_vector = np.log10(feature_vector)\n",
        "\n",
        "    return feature_vector\n"
      ],
      "execution_count": null,
      "outputs": []
    },
    {
      "cell_type": "code",
      "metadata": {
        "id": "QK9gHyg7Akh4"
      },
      "source": [
        "def nextpow2(i):\n",
        "    \"\"\"\n",
        "    Find the next power of 2 for number i\n",
        "    \"\"\"\n",
        "    n = 1\n",
        "    while n < i:\n",
        "        n *= 2\n",
        "    return n\n"
      ],
      "execution_count": null,
      "outputs": []
    },
    {
      "cell_type": "code",
      "metadata": {
        "id": "W_P6dP3xAdO3"
      },
      "source": [
        "workshop_run1=[]\n",
        "for idx in range(len(eeg_run1)):\n",
        "    workshop_run1.append(compute_feature_vector(eeg_run1[idx].T, 256))\n",
        "workshop_run2=[]\n",
        "for idx in range(len(eeg_run2)):\n",
        "    workshop_run2.append(compute_feature_vector(eeg_run2[idx].T, 256))"
      ],
      "execution_count": null,
      "outputs": []
    },
    {
      "cell_type": "code",
      "metadata": {
        "colab": {
          "base_uri": "https://localhost:8080/"
        },
        "id": "LK8PybhZAnlf",
        "outputId": "25e4739e-3dc6-4699-8ac8-b3977a444ade"
      },
      "source": [
        "# TRAINING ALL THE MODELS\n",
        "X = workshop_run1\n",
        "y = labels_run1\n",
        "X_train, X_test, y_train, y_test = train_test_split(X, y, test_size=0.3, random_state=42)\n",
        "\n",
        "X_train = workshop_run1\n",
        "y_train = labels_run1\n",
        "X_test = workshop_run2\n",
        "y_test = labels_run2\n",
        "\n",
        "from sklearn.metrics import accuracy_score\n",
        "import matplotlib.pyplot as plt\n",
        "\n",
        "i=0\n",
        "importances=[]\n",
        "for model in models:\n",
        "  i+=1\n",
        "  try:\n",
        "    model.fit(X_train,y_train)\n",
        "  except Exception as e: print('Error in model.fit >>>',e)\n",
        "  try:\n",
        "    pred=model.predict(X_test)\n",
        "  except Exception as e: print('Error in model.predict >>>',e)\n",
        "  print(str(i)+'___'+str(model.__class__)+(100-len(str(model.__class__)))*'>'+'__',accuracy_score(y_test,pred))\n",
        "  try:\n",
        "    importances.append([i-1,model.feature_importances_])\n",
        "  except AttributeError:\n",
        "    pass"
      ],
      "execution_count": null,
      "outputs": [
        {
          "output_type": "stream",
          "text": [
            "1___<class 'sklearn.neighbors._classification.KNeighborsClassifier'>>>>>>>>>>>>>>>>>>>>>>>>>>>>>>>>>>>>>__ 0.35\n",
            "2___<class 'sklearn.neighbors._classification.RadiusNeighborsClassifier'>>>>>>>>>>>>>>>>>>>>>>>>>>>>>>>>__ 0.25\n",
            "3___<class 'sklearn.linear_model._passive_aggressive.PassiveAggressiveClassifier'>>>>>>>>>>>>>>>>>>>>>>>__ 0.275\n",
            "4___<class 'sklearn.linear_model._ridge.RidgeClassifier'>>>>>>>>>>>>>>>>>>>>>>>>>>>>>>>>>>>>>>>>>>>>>>>>__ 0.325\n",
            "5___<class 'sklearn.linear_model._ridge.RidgeClassifierCV'>>>>>>>>>>>>>>>>>>>>>>>>>>>>>>>>>>>>>>>>>>>>>>__ 0.3\n",
            "6___<class 'sklearn.linear_model._stochastic_gradient.SGDClassifier'>>>>>>>>>>>>>>>>>>>>>>>>>>>>>>>>>>>>__ 0.25\n",
            "7___<class 'sklearn.svm._classes.LinearSVC'>>>>>>>>>>>>>>>>>>>>>>>>>>>>>>>>>>>>>>>>>>>>>>>>>>>>>>>>>>>>>__ 0.325\n",
            "8___<class 'sklearn.svm._classes.NuSVC'>>>>>>>>>>>>>>>>>>>>>>>>>>>>>>>>>>>>>>>>>>>>>>>>>>>>>>>>>>>>>>>>>__ 0.35\n",
            "9___<class 'sklearn.svm._classes.SVC'>>>>>>>>>>>>>>>>>>>>>>>>>>>>>>>>>>>>>>>>>>>>>>>>>>>>>>>>>>>>>>>>>>>__ 0.3\n",
            "10___<class 'sklearn.tree._classes.DecisionTreeClassifier'>>>>>>>>>>>>>>>>>>>>>>>>>>>>>>>>>>>>>>>>>>>>>>>__ 0.35\n",
            "11___<class 'sklearn.tree._classes.ExtraTreeClassifier'>>>>>>>>>>>>>>>>>>>>>>>>>>>>>>>>>>>>>>>>>>>>>>>>>>__ 0.25\n",
            "12___<class 'sklearn.ensemble._weight_boosting.AdaBoostClassifier'>>>>>>>>>>>>>>>>>>>>>>>>>>>>>>>>>>>>>>>__ 0.25\n",
            "13___<class 'sklearn.ensemble._bagging.BaggingClassifier'>>>>>>>>>>>>>>>>>>>>>>>>>>>>>>>>>>>>>>>>>>>>>>>>__ 0.275\n",
            "14___<class 'sklearn.ensemble._forest.ExtraTreesClassifier'>>>>>>>>>>>>>>>>>>>>>>>>>>>>>>>>>>>>>>>>>>>>>>__ 0.325\n",
            "15___<class 'sklearn.ensemble._gb.GradientBoostingClassifier'>>>>>>>>>>>>>>>>>>>>>>>>>>>>>>>>>>>>>>>>>>>>__ 0.3\n",
            "16___<class 'sklearn.ensemble._forest.RandomForestClassifier'>>>>>>>>>>>>>>>>>>>>>>>>>>>>>>>>>>>>>>>>>>>>__ 0.35\n",
            "17___<class 'sklearn.ensemble._stacking.StackingClassifier'>>>>>>>>>>>>>>>>>>>>>>>>>>>>>>>>>>>>>>>>>>>>>>__ 0.325\n",
            "18___<class 'sklearn.ensemble._voting.VotingClassifier'>>>>>>>>>>>>>>>>>>>>>>>>>>>>>>>>>>>>>>>>>>>>>>>>>>__ 0.3\n"
          ],
          "name": "stdout"
        }
      ]
    },
    {
      "cell_type": "code",
      "metadata": {
        "colab": {
          "base_uri": "https://localhost:8080/",
          "height": 574
        },
        "id": "bm8fRXsAChgz",
        "outputId": "b1e0f46c-2280-4eac-f8f7-57d8adc2a04a"
      },
      "source": [
        "plot_multichannel(eeg_run1[0].T)\n",
        "plot_multichannel(eeg_run1[1].T)"
      ],
      "execution_count": null,
      "outputs": [
        {
          "output_type": "stream",
          "text": [
            "No handles with labels found to put in legend.\n",
            "No handles with labels found to put in legend.\n"
          ],
          "name": "stderr"
        },
        {
          "output_type": "display_data",
          "data": {
            "image/png": "[encoded data removed]",
            "text/plain": [
              "<Figure size 432x288 with 1 Axes>"
            ]
          },
          "metadata": {
            "tags": [],
            "needs_background": "light"
          }
        },
        {
          "output_type": "display_data",
          "data": {
            "image/png": "[encoded data removed]",
            "text/plain": [
              "<Figure size 432x288 with 1 Axes>"
            ]
          },
          "metadata": {
            "tags": [],
            "needs_background": "light"
          }
        }
      ]
    },
    {
      "cell_type": "code",
      "metadata": {
        "id": "LYkXZ67HDEYW"
      },
      "source": [
        "import lightgbm as lgb\n",
        "\n",
        "X = workshop_run1\n",
        "y = labels_run1\n",
        "X_train, X_test, y_train, y_test = train_test_split(X, y, test_size=0.3, random_state=42)\n",
        "\n",
        "X_train = workshop_run1\n",
        "y_train = labels_run1\n",
        "X_test = workshop_run2\n",
        "y_test = labels_run2\n",
        "num_round = 10\n",
        "param = {'num_leaves': 31, 'objective': 'multiclass', 'num_classes':4}\n",
        "param['metric'] = 'multi_error'\n",
        "train_data = lgb.Dataset(X_train, label=y_train)\n",
        "test_data = lgb.Dataset(X_test, label=y_test)\n",
        "\n",
        "bst = lgb.train(param, train_data, num_round, valid_sets=[test_data])\n",
        "test_pred = bst.predict(X_test)\n",
        "print(accuracy_score(y_test,test_pred))"
      ],
      "execution_count": null,
      "outputs": []
    },
    {
      "cell_type": "code",
      "metadata": {
        "id": "f5Ivcy_XK-cu"
      },
      "source": [
        "import xgboost as xgb\n",
        "# read in data\n",
        "dtrain = xgb.DMatrix('demo/data/agaricus.txt.train')\n",
        "dtest = xgb.DMatrix('demo/data/agaricus.txt.test')\n",
        "# specify parameters via map\n",
        "param = {'max_depth':2, 'eta':1, 'objective':'binary:logistic' }\n",
        "num_round = 2\n",
        "bst = xgb.train(param, dtrain, num_round)\n",
        "# make prediction\n",
        "preds = bst.predict(dtest)"
      ],
      "execution_count": null,
      "outputs": []
    },
    {
      "cell_type": "code",
      "metadata": {
        "id": "EdW6xsC7FcY7"
      },
      "source": [
        ""
      ],
      "execution_count": null,
      "outputs": []
    }
  ]
}